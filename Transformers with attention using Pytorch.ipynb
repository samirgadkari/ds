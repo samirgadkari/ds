{
 "cells": [
  {
   "cell_type": "markdown",
   "metadata": {},
   "source": [
    "Most of this code was taken from https://pytorch.org/tutorials/beginner/transformer_tutorial.html .  The language modeling task is to assign a probability for the likelihood of a given word (or a sequence of words) to follow a sequence of words.\n",
    "\n",
    "I have commented the code to make sure I understand what is going on."
   ]
  },
  {
   "cell_type": "code",
   "execution_count": 23,
   "metadata": {
    "ExecuteTime": {
     "end_time": "2020-11-05T01:55:53.626950Z",
     "start_time": "2020-11-05T01:55:53.617735Z"
    }
   },
   "outputs": [],
   "source": [
    "import math\n",
    "import torch\n",
    "import torch.nn as nn\n",
    "import torch.nn.functional as F\n",
    "\n",
    "class TransformerModel(nn.Module):\n",
    "\n",
    "    # ntoken = size of vocab\n",
    "    # ninp = embedding dimension\n",
    "    # nhead = number of heads in multihead attention\n",
    "    # nhid = the dimension of the feedforward network model in nn.TransformerEncoder\n",
    "    # nlayers = the number of nn.TransformerEncoderLayer in nn.TransformerEncoder\n",
    "    def __init__(self, ntoken, ninp, nhead, nhid, nlayers, dropout=0.5):\n",
    "        super(TransformerModel, self).__init__()  # Same as super().__init__()\n",
    "        from torch.nn import TransformerEncoder, TransformerEncoderLayer\n",
    "        self.model_type = 'Transformer'\n",
    "        self.pos_encoder = PositionalEncoding(ninp, dropout)\n",
    "        encoder_layers = TransformerEncoderLayer(ninp, nhead, nhid, dropout)\n",
    "        self.transformer_encoder = TransformerEncoder(encoder_layers, nlayers)\n",
    "        \n",
    "        # A LUT that stores embeddings for all tokens.\n",
    "        # ninp = length of one token's embedding\n",
    "        self.encoder = nn.Embedding(ntoken, ninp)\n",
    "        \n",
    "        self.ninp = ninp\n",
    "        \n",
    "        # Applies a linear transformation to the incoming data,\n",
    "        # changing it's last shape value:\n",
    "        # Input shape(batch_size, *, embedding_length) * \n",
    "        #   Weights shape(embedding_length, *, output_length) =\n",
    "        #     Output shape(batch_size, *, output_length)\n",
    "        # * means any number of additional dimensions.\n",
    "        self.decoder = nn.Linear(ninp, ntoken)\n",
    "\n",
    "        self.init_weights()\n",
    "\n",
    "    def generate_square_subsequent_mask(self, sz):\n",
    "        mask = (torch.triu(torch.ones(sz, sz)) == 1).transpose(0, 1)\n",
    "        mask = mask.float().masked_fill(mask == 0, float('-inf')).masked_fill(mask == 1, float(0.0))\n",
    "        return mask\n",
    "\n",
    "    def init_weights(self):\n",
    "        initrange = 0.1\n",
    "        self.encoder.weight.data.uniform_(-initrange, initrange)\n",
    "        self.decoder.bias.data.zero_()\n",
    "        self.decoder.weight.data.uniform_(-initrange, initrange)\n",
    "\n",
    "    def forward(self, src, src_mask):\n",
    "        src = self.encoder(src) * math.sqrt(self.ninp)\n",
    "        src = self.pos_encoder(src)\n",
    "        output = self.transformer_encoder(src, src_mask)\n",
    "        output = self.decoder(output)\n",
    "        return output"
   ]
  },
  {
   "cell_type": "code",
   "execution_count": 24,
   "metadata": {
    "ExecuteTime": {
     "end_time": "2020-11-05T01:56:08.192144Z",
     "start_time": "2020-11-05T01:56:08.185470Z"
    }
   },
   "outputs": [],
   "source": [
    "class PositionalEncoding(nn.Module):\n",
    "\n",
    "    def __init__(self, d_model, dropout=0.1, max_len=5000):\n",
    "        super(PositionalEncoding, self).__init__()\n",
    "        self.dropout = nn.Dropout(p=dropout)\n",
    "\n",
    "        pe = torch.zeros(max_len, d_model)\n",
    "        \n",
    "        # The unsqueeze(1) increases the dimension at position 1\n",
    "        # of the tensor, by putting a 1 there.\n",
    "        position = torch.arange(0, max_len, dtype=torch.float).unsqueeze(1)\n",
    "        \n",
    "        div_term = torch.exp(torch.arange(0, d_model, 2).float() * (-math.log(10000.0) / d_model))\n",
    "        pe[:, 0::2] = torch.sin(position * div_term)\n",
    "        pe[:, 1::2] = torch.cos(position * div_term)\n",
    "        \n",
    "        pe = pe.unsqueeze(0).transpose(0, 1)  # Same as torch.unsqueeze(pe, 1)\n",
    "        \n",
    "        self.register_buffer('pe', pe)\n",
    "\n",
    "    def forward(self, x):\n",
    "        x = x + self.pe[:x.size(0), :]\n",
    "        return self.dropout(x)"
   ]
  },
  {
   "cell_type": "code",
   "execution_count": 26,
   "metadata": {
    "ExecuteTime": {
     "end_time": "2020-11-05T01:57:30.738018Z",
     "start_time": "2020-11-05T01:57:25.470891Z"
    }
   },
   "outputs": [
    {
     "name": "stderr",
     "output_type": "stream",
     "text": [
      "/Library/Frameworks/Python.framework/Versions/3.8/lib/python3.8/site-packages/torchtext/data/field.py:150: UserWarning: Field class will be retired soon and moved to torchtext.legacy. Please see the most recent release notes for further information.\n",
      "  warnings.warn('{} class will be retired soon and moved to torchtext.legacy. Please see the most recent release notes for further information.'.format(self.__class__.__name__), UserWarning)\n"
     ]
    },
    {
     "name": "stdout",
     "output_type": "stream",
     "text": [
      "downloading wikitext-2-v1.zip\n"
     ]
    },
    {
     "name": "stderr",
     "output_type": "stream",
     "text": [
      "wikitext-2-v1.zip: 100%|██████████| 4.48M/4.48M [00:00<00:00, 7.90MB/s]\n"
     ]
    },
    {
     "name": "stdout",
     "output_type": "stream",
     "text": [
      "extracting\n"
     ]
    },
    {
     "name": "stderr",
     "output_type": "stream",
     "text": [
      "/Library/Frameworks/Python.framework/Versions/3.8/lib/python3.8/site-packages/torchtext/data/example.py:78: UserWarning: Example class will be retired soon and moved to torchtext.legacy. Please see the most recent release notes for further information.\n",
      "  warnings.warn('Example class will be retired soon and moved to torchtext.legacy. Please see the most recent release notes for further information.', UserWarning)\n"
     ]
    }
   ],
   "source": [
    "import torchtext\n",
    "from torchtext.data.utils import get_tokenizer\n",
    "TEXT = torchtext.data.Field(tokenize=get_tokenizer(\"basic_english\"),\n",
    "                            init_token='<sos>',\n",
    "                            eos_token='<eos>',\n",
    "                            lower=True)\n",
    "train_txt, val_txt, test_txt = torchtext.datasets.WikiText2.splits(TEXT)\n",
    "TEXT.build_vocab(train_txt)\n",
    "device = torch.device(\"cuda\" if torch.cuda.is_available() else \"cpu\")\n",
    "\n",
    "def batchify(data, bsz):\n",
    "    data = TEXT.numericalize([data.examples[0].text])\n",
    "    # Divide the dataset into bsz parts.\n",
    "    nbatch = data.size(0) // bsz\n",
    "    # Trim off any extra elements that wouldn't cleanly fit (remainders).\n",
    "    data = data.narrow(0, 0, nbatch * bsz)\n",
    "    # Evenly divide the data across the bsz batches.\n",
    "    data = data.view(bsz, -1).t().contiguous()\n",
    "    return data.to(device)\n",
    "\n",
    "batch_size = 20\n",
    "eval_batch_size = 10\n",
    "train_data = batchify(train_txt, batch_size)\n",
    "val_data = batchify(val_txt, eval_batch_size)\n",
    "test_data = batchify(test_txt, eval_batch_size)"
   ]
  },
  {
   "cell_type": "code",
   "execution_count": 27,
   "metadata": {
    "ExecuteTime": {
     "end_time": "2020-11-05T01:57:49.594408Z",
     "start_time": "2020-11-05T01:57:49.590238Z"
    }
   },
   "outputs": [],
   "source": [
    "bptt = 35\n",
    "def get_batch(source, i):\n",
    "    seq_len = min(bptt, len(source) - 1 - i)\n",
    "    data = source[i:i+seq_len]\n",
    "    target = source[i+1:i+1+seq_len].reshape(-1)\n",
    "    return data, target"
   ]
  },
  {
   "cell_type": "code",
   "execution_count": 28,
   "metadata": {
    "ExecuteTime": {
     "end_time": "2020-11-05T01:58:01.919538Z",
     "start_time": "2020-11-05T01:58:01.750647Z"
    }
   },
   "outputs": [],
   "source": [
    "ntokens = len(TEXT.vocab.stoi) # the size of vocabulary\n",
    "emsize  = 200 # embedding dimension\n",
    "nhid    = 200 # the dimension of the feedforward network model in nn.TransformerEncoder\n",
    "nlayers = 2   # the number of nn.TransformerEncoderLayer in nn.TransformerEncoder\n",
    "nhead   = 2   # the number of heads in the multiheadattention models\n",
    "dropout = 0.2 # the dropout value\n",
    "model = TransformerModel(ntokens, emsize, nhead, nhid, nlayers, dropout).to(device)"
   ]
  },
  {
   "cell_type": "code",
   "execution_count": 29,
   "metadata": {
    "ExecuteTime": {
     "end_time": "2020-11-05T01:58:17.504897Z",
     "start_time": "2020-11-05T01:58:17.493022Z"
    }
   },
   "outputs": [],
   "source": [
    "criterion = nn.CrossEntropyLoss()\n",
    "lr = 5.0 # learning rate\n",
    "optimizer = torch.optim.SGD(model.parameters(), lr=lr)\n",
    "scheduler = torch.optim.lr_scheduler.StepLR(optimizer, 1.0, gamma=0.95)\n",
    "\n",
    "import time\n",
    "def train():\n",
    "    model.train() # Turn on the train mode\n",
    "    total_loss = 0.\n",
    "    start_time = time.time()\n",
    "    ntokens = len(TEXT.vocab.stoi)\n",
    "    src_mask = model.generate_square_subsequent_mask(bptt).to(device)\n",
    "    for batch, i in enumerate(range(0, train_data.size(0) - 1, bptt)):\n",
    "        data, targets = get_batch(train_data, i)\n",
    "        optimizer.zero_grad()\n",
    "        if data.size(0) != bptt:\n",
    "            src_mask = model.generate_square_subsequent_mask(data.size(0)).to(device)\n",
    "        output = model(data, src_mask)\n",
    "        loss = criterion(output.view(-1, ntokens), targets)\n",
    "        loss.backward()\n",
    "        torch.nn.utils.clip_grad_norm_(model.parameters(), 0.5)\n",
    "        optimizer.step()\n",
    "\n",
    "        total_loss += loss.item()\n",
    "        log_interval = 200\n",
    "        if batch % log_interval == 0 and batch > 0:\n",
    "            cur_loss = total_loss / log_interval\n",
    "            elapsed = time.time() - start_time\n",
    "            print('| epoch {:3d} | {:5d}/{:5d} batches | '\n",
    "                  'lr {:02.2f} | ms/batch {:5.2f} | '\n",
    "                  'loss {:5.2f} | ppl {:8.2f}'.format(\n",
    "                    epoch, batch, len(train_data) // bptt, scheduler.get_lr()[0],\n",
    "                    elapsed * 1000 / log_interval,\n",
    "                    cur_loss, math.exp(cur_loss)))\n",
    "            total_loss = 0\n",
    "            start_time = time.time()\n",
    "\n",
    "def evaluate(eval_model, data_source):\n",
    "    eval_model.eval() # Turn on the evaluation mode\n",
    "    total_loss = 0.\n",
    "    ntokens = len(TEXT.vocab.stoi)\n",
    "    src_mask = model.generate_square_subsequent_mask(bptt).to(device)\n",
    "    with torch.no_grad():\n",
    "        for i in range(0, data_source.size(0) - 1, bptt):\n",
    "            data, targets = get_batch(data_source, i)\n",
    "            if data.size(0) != bptt:\n",
    "                src_mask = model.generate_square_subsequent_mask(data.size(0)).to(device)\n",
    "            output = eval_model(data, src_mask)\n",
    "            output_flat = output.view(-1, ntokens)\n",
    "            total_loss += len(data) * criterion(output_flat, targets).item()\n",
    "    return total_loss / (len(data_source) - 1)"
   ]
  },
  {
   "cell_type": "code",
   "execution_count": 30,
   "metadata": {
    "ExecuteTime": {
     "end_time": "2020-11-05T18:11:30.419331Z",
     "start_time": "2020-11-05T01:58:29.301647Z"
    }
   },
   "outputs": [
    {
     "name": "stderr",
     "output_type": "stream",
     "text": [
      "/Library/Frameworks/Python.framework/Versions/3.8/lib/python3.8/site-packages/torch/optim/lr_scheduler.py:369: UserWarning: To get the last learning rate computed by the scheduler, please use `get_last_lr()`.\n",
      "  warnings.warn(\"To get the last learning rate computed by the scheduler, \"\n"
     ]
    },
    {
     "name": "stdout",
     "output_type": "stream",
     "text": [
      "| epoch   1 |   200/ 2981 batches | lr 5.00 | ms/batch 570.82 | loss  8.01 | ppl  3007.40\n",
      "| epoch   1 |   400/ 2981 batches | lr 5.00 | ms/batch 569.51 | loss  6.77 | ppl   873.34\n",
      "| epoch   1 |   600/ 2981 batches | lr 5.00 | ms/batch 561.83 | loss  6.36 | ppl   580.37\n",
      "| epoch   1 |   800/ 2981 batches | lr 5.00 | ms/batch 568.74 | loss  6.22 | ppl   500.78\n",
      "| epoch   1 |  1000/ 2981 batches | lr 5.00 | ms/batch 559.45 | loss  6.11 | ppl   450.57\n",
      "| epoch   1 |  1200/ 2981 batches | lr 5.00 | ms/batch 557.55 | loss  6.08 | ppl   436.84\n",
      "| epoch   1 |  1400/ 2981 batches | lr 5.00 | ms/batch 556.16 | loss  6.04 | ppl   420.30\n",
      "| epoch   1 |  1600/ 2981 batches | lr 5.00 | ms/batch 564.61 | loss  6.05 | ppl   423.05\n",
      "| epoch   1 |  1800/ 2981 batches | lr 5.00 | ms/batch 565.26 | loss  5.96 | ppl   385.93\n",
      "| epoch   1 |  2000/ 2981 batches | lr 5.00 | ms/batch 567.07 | loss  5.96 | ppl   386.33\n",
      "| epoch   1 |  2200/ 2981 batches | lr 5.00 | ms/batch 575.56 | loss  5.84 | ppl   345.35\n",
      "| epoch   1 |  2400/ 2981 batches | lr 5.00 | ms/batch 582.86 | loss  5.89 | ppl   360.59\n",
      "| epoch   1 |  2600/ 2981 batches | lr 5.00 | ms/batch 591.22 | loss  5.89 | ppl   362.66\n",
      "| epoch   1 |  2800/ 2981 batches | lr 5.00 | ms/batch 605.99 | loss  5.81 | ppl   332.10\n",
      "-----------------------------------------------------------------------------------------\n",
      "| end of epoch   1 | time: 1763.55s | valid loss  5.72 | valid ppl   304.97\n",
      "-----------------------------------------------------------------------------------------\n",
      "| epoch   2 |   200/ 2981 batches | lr 4.51 | ms/batch 9216.57 | loss  5.80 | ppl   330.62\n",
      "| epoch   2 |   400/ 2981 batches | lr 4.51 | ms/batch 20796.27 | loss  5.77 | ppl   321.91\n",
      "| epoch   2 |   600/ 2981 batches | lr 4.51 | ms/batch 4573.00 | loss  5.59 | ppl   268.71\n",
      "| epoch   2 |   800/ 2981 batches | lr 4.51 | ms/batch 1078.18 | loss  5.63 | ppl   277.49\n",
      "| epoch   2 |  1000/ 2981 batches | lr 4.51 | ms/batch 2024.70 | loss  5.58 | ppl   264.91\n",
      "| epoch   2 |  1200/ 2981 batches | lr 4.51 | ms/batch 230544.01 | loss  5.61 | ppl   273.54\n",
      "| epoch   2 |  1400/ 2981 batches | lr 4.51 | ms/batch 625.40 | loss  5.62 | ppl   274.67\n",
      "| epoch   2 |  1600/ 2981 batches | lr 4.51 | ms/batch 615.72 | loss  5.66 | ppl   287.92\n",
      "| epoch   2 |  1800/ 2981 batches | lr 4.51 | ms/batch 615.02 | loss  5.59 | ppl   268.30\n",
      "| epoch   2 |  2000/ 2981 batches | lr 4.51 | ms/batch 614.98 | loss  5.62 | ppl   275.33\n",
      "| epoch   2 |  2200/ 2981 batches | lr 4.51 | ms/batch 613.64 | loss  5.51 | ppl   246.85\n",
      "| epoch   2 |  2400/ 2981 batches | lr 4.51 | ms/batch 614.27 | loss  5.58 | ppl   264.95\n",
      "| epoch   2 |  2600/ 2981 batches | lr 4.51 | ms/batch 607.96 | loss  5.59 | ppl   266.79\n",
      "| epoch   2 |  2800/ 2981 batches | lr 4.51 | ms/batch 603.80 | loss  5.51 | ppl   246.37\n",
      "-----------------------------------------------------------------------------------------\n",
      "| end of epoch   2 | time: 54789.66s | valid loss  5.59 | valid ppl   266.41\n",
      "-----------------------------------------------------------------------------------------\n",
      "| epoch   3 |   200/ 2981 batches | lr 4.29 | ms/batch 623.81 | loss  5.55 | ppl   256.43\n",
      "| epoch   3 |   400/ 2981 batches | lr 4.29 | ms/batch 605.31 | loss  5.56 | ppl   258.68\n",
      "| epoch   3 |   600/ 2981 batches | lr 4.29 | ms/batch 601.50 | loss  5.36 | ppl   213.25\n",
      "| epoch   3 |   800/ 2981 batches | lr 4.29 | ms/batch 595.26 | loss  5.41 | ppl   222.93\n",
      "| epoch   3 |  1000/ 2981 batches | lr 4.29 | ms/batch 594.82 | loss  5.37 | ppl   214.91\n",
      "| epoch   3 |  1200/ 2981 batches | lr 4.29 | ms/batch 596.41 | loss  5.41 | ppl   222.89\n",
      "| epoch   3 |  1400/ 2981 batches | lr 4.29 | ms/batch 592.29 | loss  5.43 | ppl   229.23\n",
      "| epoch   3 |  1600/ 2981 batches | lr 4.29 | ms/batch 590.82 | loss  5.47 | ppl   238.45\n",
      "| epoch   3 |  1800/ 2981 batches | lr 4.29 | ms/batch 589.19 | loss  5.40 | ppl   221.89\n",
      "| epoch   3 |  2000/ 2981 batches | lr 4.29 | ms/batch 588.03 | loss  5.44 | ppl   229.67\n",
      "| epoch   3 |  2200/ 2981 batches | lr 4.29 | ms/batch 602.25 | loss  5.32 | ppl   204.69\n",
      "| epoch   3 |  2400/ 2981 batches | lr 4.29 | ms/batch 590.71 | loss  5.40 | ppl   220.34\n",
      "| epoch   3 |  2600/ 2981 batches | lr 4.29 | ms/batch 593.17 | loss  5.41 | ppl   222.54\n",
      "| epoch   3 |  2800/ 2981 batches | lr 4.29 | ms/batch 584.23 | loss  5.34 | ppl   207.66\n",
      "-----------------------------------------------------------------------------------------\n",
      "| end of epoch   3 | time: 1827.88s | valid loss  5.48 | valid ppl   240.35\n",
      "-----------------------------------------------------------------------------------------\n"
     ]
    }
   ],
   "source": [
    "best_val_loss = float(\"inf\")\n",
    "epochs = 3 # The number of epochs\n",
    "best_model = None\n",
    "\n",
    "for epoch in range(1, epochs + 1):\n",
    "    epoch_start_time = time.time()\n",
    "    train()\n",
    "    val_loss = evaluate(model, val_data)\n",
    "    print('-' * 89)\n",
    "    print('| end of epoch {:3d} | time: {:5.2f}s | valid loss {:5.2f} | '\n",
    "          'valid ppl {:8.2f}'.format(epoch, (time.time() - epoch_start_time),\n",
    "                                     val_loss, math.exp(val_loss)))\n",
    "    print('-' * 89)\n",
    "\n",
    "    if val_loss < best_val_loss:\n",
    "        best_val_loss = val_loss\n",
    "        best_model = model\n",
    "\n",
    "    scheduler.step()"
   ]
  },
  {
   "cell_type": "code",
   "execution_count": 31,
   "metadata": {
    "ExecuteTime": {
     "end_time": "2020-11-05T18:12:30.652871Z",
     "start_time": "2020-11-05T18:11:30.586777Z"
    }
   },
   "outputs": [
    {
     "name": "stdout",
     "output_type": "stream",
     "text": [
      "=========================================================================================\n",
      "| End of training | test loss  5.39 | test ppl   219.52\n",
      "=========================================================================================\n"
     ]
    }
   ],
   "source": [
    "test_loss = evaluate(best_model, test_data)\n",
    "print('=' * 89)\n",
    "print('| End of training | test loss {:5.2f} | test ppl {:8.2f}'.format(\n",
    "    test_loss, math.exp(test_loss)))\n",
    "print('=' * 89)"
   ]
  },
  {
   "cell_type": "code",
   "execution_count": null,
   "metadata": {},
   "outputs": [],
   "source": []
  }
 ],
 "metadata": {
  "kernelspec": {
   "display_name": "Python 3",
   "language": "python",
   "name": "python3"
  },
  "language_info": {
   "codemirror_mode": {
    "name": "ipython",
    "version": 3
   },
   "file_extension": ".py",
   "mimetype": "text/x-python",
   "name": "python",
   "nbconvert_exporter": "python",
   "pygments_lexer": "ipython3",
   "version": "3.8.5"
  },
  "toc": {
   "base_numbering": 1,
   "nav_menu": {},
   "number_sections": true,
   "sideBar": true,
   "skip_h1_title": false,
   "title_cell": "Table of Contents",
   "title_sidebar": "Contents",
   "toc_cell": false,
   "toc_position": {},
   "toc_section_display": true,
   "toc_window_display": false
  },
  "varInspector": {
   "cols": {
    "lenName": 16,
    "lenType": 16,
    "lenVar": 40
   },
   "kernels_config": {
    "python": {
     "delete_cmd_postfix": "",
     "delete_cmd_prefix": "del ",
     "library": "var_list.py",
     "varRefreshCmd": "print(var_dic_list())"
    },
    "r": {
     "delete_cmd_postfix": ") ",
     "delete_cmd_prefix": "rm(",
     "library": "var_list.r",
     "varRefreshCmd": "cat(var_dic_list()) "
    }
   },
   "types_to_exclude": [
    "module",
    "function",
    "builtin_function_or_method",
    "instance",
    "_Feature"
   ],
   "window_display": false
  }
 },
 "nbformat": 4,
 "nbformat_minor": 4
}
