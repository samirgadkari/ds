{
 "cells": [
  {
   "cell_type": "markdown",
   "metadata": {},
   "source": [
    "## CIFAR10\n",
    "  - 10 categories of 32 x 32 sized color images\n",
    "  - 50000 training and 10000 testing samples\n",
    "  \n",
    "The full CIFAR dataset contains 80 million tiny colored images.\n",
    "  - The main page: https://www.cs.toronto.edu/%7Ekriz/cifar.html\n",
    "  - About CIFAR: https://www.cs.toronto.edu/%7Ekriz/learning-features-2009-TR.pdf"
   ]
  },
  {
   "cell_type": "code",
   "execution_count": 267,
   "metadata": {},
   "outputs": [],
   "source": [
    "import numpy as np\n",
    "import pandas as pd\n",
    "import matplotlib.pyplot as plt\n",
    "\n",
    "np.random.seed(42)\n",
    "\n",
    "import tensorflow as tf\n",
    "\n",
    "tf.random.set_seed(42)\n",
    "\n",
    "import tensorflow.keras as keras"
   ]
  },
  {
   "cell_type": "code",
   "execution_count": 268,
   "metadata": {},
   "outputs": [],
   "source": [
    "import os\n",
    "from functools import partial\n",
    "\n",
    "from sklearn.model_selection import StratifiedShuffleSplit\n",
    "\n",
    "from tensorflow.keras.datasets.cifar10 import load_data\n",
    "from tensorflow.keras import Sequential\n",
    "from tensorflow.keras.layers import InputLayer, Dense, BatchNormalization, Activation, \\\n",
    "                                    Dropout, AlphaDropout\n",
    "from tensorflow.keras.optimizers import Nadam, SGD\n",
    "from tensorflow.keras.callbacks import EarlyStopping\n",
    "import tensorflow.keras.backend as K\n",
    "\n",
    "from sklearn.metrics import accuracy_score"
   ]
  },
  {
   "cell_type": "markdown",
   "metadata": {},
   "source": [
    "## You can download the data from the original link above and load it like this ..."
   ]
  },
  {
   "cell_type": "code",
   "execution_count": 48,
   "metadata": {},
   "outputs": [],
   "source": [
    "def unpickle(file):\n",
    "    import pickle\n",
    "    with open(file, 'rb') as fo:\n",
    "        dict = pickle.load(fo, encoding='bytes')\n",
    "    return dict\n",
    "\n",
    "file_dicts = {}\n",
    "for i in range(1, 6):\n",
    "    batch = f'data_batch_{i}'\n",
    "    filename = os.path.join('.', 'data', 'cifar', 'cifar-10-batches-py', batch)\n",
    "    file_dicts[i-1] = unpickle(filename)"
   ]
  },
  {
   "cell_type": "code",
   "execution_count": 49,
   "metadata": {},
   "outputs": [],
   "source": [
    "def append_data(data, type_):\n",
    "    a = data[0][type_]\n",
    "    for i in range(1, 5):\n",
    "        a = np.r_[a, data[i][type_]]\n",
    "    return a"
   ]
  },
  {
   "cell_type": "code",
   "execution_count": 50,
   "metadata": {},
   "outputs": [],
   "source": [
    "X_full = append_data(file_dicts, b'data')\n",
    "y_full = append_data(file_dicts, b'labels')"
   ]
  },
  {
   "cell_type": "code",
   "execution_count": 51,
   "metadata": {},
   "outputs": [
    {
     "data": {
      "text/plain": [
       "((50000, 3072), (50000,))"
      ]
     },
     "execution_count": 51,
     "metadata": {},
     "output_type": "execute_result"
    }
   ],
   "source": [
    "X_full.shape, y_full.shape"
   ]
  },
  {
   "cell_type": "code",
   "execution_count": 52,
   "metadata": {},
   "outputs": [],
   "source": [
    "test_file = os.path.join('.', 'data', 'cifar', 'cifar-10-batches-py', 'test_batch')\n",
    "test_file_dict = unpickle(test_file)"
   ]
  },
  {
   "cell_type": "code",
   "execution_count": 53,
   "metadata": {},
   "outputs": [],
   "source": [
    "X_test = test_file_dict[b'data']\n",
    "y_test = test_file_dict[b'labels']"
   ]
  },
  {
   "cell_type": "code",
   "execution_count": 54,
   "metadata": {},
   "outputs": [
    {
     "data": {
      "text/plain": [
       "(10000, 10000)"
      ]
     },
     "execution_count": 54,
     "metadata": {},
     "output_type": "execute_result"
    }
   ],
   "source": [
    "len(X_test), len(y_test)"
   ]
  },
  {
   "cell_type": "code",
   "execution_count": 55,
   "metadata": {},
   "outputs": [],
   "source": [
    "# Use StratifiedShuffleSplit to split training data into training and validation. \n",
    "# This will ensure that the training and validation data has an equal proportion of classes.\n",
    "#\n",
    "split = StratifiedShuffleSplit(n_splits=1, train_size=0.8, test_size=0.2) # We don't need to specify both test/train.\n",
    "                                                                          # sizes, but it is good for clarity.\n",
    "for train_idx, test_idx in split.split(X_full, y_full):\n",
    "    X_train, X_val = X_full[train_idx], X_full[test_idx]\n",
    "    y_train, y_val = y_full[train_idx], y_full[test_idx]"
   ]
  },
  {
   "cell_type": "code",
   "execution_count": 56,
   "metadata": {},
   "outputs": [
    {
     "data": {
      "text/plain": [
       "((40000, 3072), 40000, (10000, 3072), 10000)"
      ]
     },
     "execution_count": 56,
     "metadata": {},
     "output_type": "execute_result"
    }
   ],
   "source": [
    "X_train.shape, len(y_train), X_test.shape, len(y_test)"
   ]
  },
  {
   "cell_type": "code",
   "execution_count": 57,
   "metadata": {},
   "outputs": [
    {
     "data": {
      "text/plain": [
       "(9    0.1\n",
       " 8    0.1\n",
       " 7    0.1\n",
       " 6    0.1\n",
       " 5    0.1\n",
       " 4    0.1\n",
       " 3    0.1\n",
       " 2    0.1\n",
       " 1    0.1\n",
       " 0    0.1\n",
       " dtype: float64, 7    0.1\n",
       " 6    0.1\n",
       " 5    0.1\n",
       " 4    0.1\n",
       " 3    0.1\n",
       " 2    0.1\n",
       " 9    0.1\n",
       " 1    0.1\n",
       " 8    0.1\n",
       " 0    0.1\n",
       " dtype: float64)"
      ]
     },
     "execution_count": 57,
     "metadata": {},
     "output_type": "execute_result"
    }
   ],
   "source": [
    "# Validate that the split shows the correct proportion of classes\n",
    "pd.Series(y_train).value_counts(normalize=True), pd.Series(y_val).value_counts(normalize=True)"
   ]
  },
  {
   "cell_type": "markdown",
   "metadata": {},
   "source": [
    "## ... or an easier way is to use Tensorflow's load_data() function"
   ]
  },
  {
   "cell_type": "code",
   "execution_count": 58,
   "metadata": {},
   "outputs": [],
   "source": [
    "(X_train, y_train), (X_test, y_test) = load_data()"
   ]
  },
  {
   "cell_type": "code",
   "execution_count": 59,
   "metadata": {},
   "outputs": [],
   "source": [
    "X_train = X_train.reshape(X_train.shape[0], -1)\n",
    "X_test = X_test.reshape(X_test.shape[0], -1)\n",
    "y_train = y_train.flatten()\n",
    "y_test = y_test.flatten()"
   ]
  },
  {
   "cell_type": "code",
   "execution_count": 60,
   "metadata": {},
   "outputs": [
    {
     "data": {
      "text/plain": [
       "((50000, 3072), (50000,), (10000, 3072), (10000,))"
      ]
     },
     "execution_count": 60,
     "metadata": {},
     "output_type": "execute_result"
    }
   ],
   "source": [
    "X_train.shape, y_train.shape, X_test.shape, y_test.shape"
   ]
  },
  {
   "cell_type": "code",
   "execution_count": 61,
   "metadata": {},
   "outputs": [
    {
     "data": {
      "text/plain": [
       "(9    0.1\n",
       " 8    0.1\n",
       " 7    0.1\n",
       " 6    0.1\n",
       " 5    0.1\n",
       " 4    0.1\n",
       " 3    0.1\n",
       " 2    0.1\n",
       " 1    0.1\n",
       " 0    0.1\n",
       " dtype: float64, 7    0.1\n",
       " 6    0.1\n",
       " 5    0.1\n",
       " 4    0.1\n",
       " 3    0.1\n",
       " 2    0.1\n",
       " 9    0.1\n",
       " 1    0.1\n",
       " 8    0.1\n",
       " 0    0.1\n",
       " dtype: float64)"
      ]
     },
     "execution_count": 61,
     "metadata": {},
     "output_type": "execute_result"
    }
   ],
   "source": [
    "# Validate that the split shows the correct proportion of classes\n",
    "pd.Series(y_train).value_counts(normalize=True), pd.Series(y_test).value_counts(normalize=True)"
   ]
  },
  {
   "cell_type": "code",
   "execution_count": 62,
   "metadata": {},
   "outputs": [],
   "source": [
    "# Use StratifiedShuffleSplit to split training data into training and validation. \n",
    "# This will ensure that the training and validation data has an equal proportion of classes.\n",
    "#\n",
    "split = StratifiedShuffleSplit(n_splits=1, train_size=0.8, test_size=0.2) # We don't need to specify both test/train.\n",
    "                                                                          # sizes, but it is good for clarity.\n",
    "for train_idx, test_idx in split.split(X_train, y_train):\n",
    "    X_train_1, X_val = X_train[train_idx], X_train[test_idx]\n",
    "    y_train_1, y_val = y_train[train_idx], y_train[test_idx]\n",
    "\n",
    "X_train = X_train_1\n",
    "y_train = y_train_1"
   ]
  },
  {
   "cell_type": "code",
   "execution_count": 63,
   "metadata": {},
   "outputs": [
    {
     "data": {
      "text/plain": [
       "((40000, 3072), (40000,), (10000, 3072), (10000,))"
      ]
     },
     "execution_count": 63,
     "metadata": {},
     "output_type": "execute_result"
    }
   ],
   "source": [
    "X_train.shape, y_train.shape, X_val.shape, y_val.shape"
   ]
  },
  {
   "cell_type": "markdown",
   "metadata": {},
   "source": [
    "## Create a model with Batch Normalization layers"
   ]
  },
  {
   "cell_type": "code",
   "execution_count": 200,
   "metadata": {},
   "outputs": [],
   "source": [
    "class MCDropout(Dropout):\n",
    "    def call(self, rate):\n",
    "        return super().call(rate, training=True)    # When training = True, the Dropout class from which we inherit\n",
    "                                                    # MCDropout drops some of the cells in the layer.\n",
    "                                                    # When cells are dropped, the model we're training is different.\n",
    "                                                    # We get the benefit of running thousands of models on the data.\n",
    "                                                    # The final model is also more robust to small changes in input.\n",
    "                                                    # MC Dropout acts as a regularizer.\n",
    "                        \n",
    "def create_model(with_bn=False,\n",
    "                 initialization='he_normal',\n",
    "                 hidden_activation='elu',\n",
    "                 dropout_rate=None,\n",
    "                 mc_dropout=False):\n",
    "    \n",
    "    def add_dropout_layer(layer_num=None, dropout_rate=None, mc_dropout=False):\n",
    "        \n",
    "        assert(layer_num is not None)\n",
    "        if dropout_rate is not None:\n",
    "            if layer_num > 16:                                   # For the last 3 layers, add AlphaDropout layer\n",
    "                if mc_dropout == True:\n",
    "                    model.add(MCDropout(dropout_rate))\n",
    "                else:\n",
    "                    model.add(AlphaDropout(dropout_rate))\n",
    "        \n",
    "        \n",
    "    model = Sequential([\n",
    "        InputLayer(input_shape=[3072])\n",
    "    ])\n",
    "\n",
    "    if with_bn:\n",
    "        model.add(BatchNormalization())                           # Add BN layer after input\n",
    "\n",
    "    NormalDense = partial(Dense,                                  # Put all your common init here.\n",
    "                          kernel_initializer=initialization,\n",
    "                          use_bias=False if with_bn else True)    # BN has bias, so remove it\n",
    "                                                                  # from the Dense layer.\n",
    "\n",
    "    for layer_num in range(20):\n",
    "        model.add(NormalDense(100))\n",
    "        \n",
    "        if with_bn:                                               # Add a BatchNormalization layer after each\n",
    "            model.add(BatchNormalization())                       # Dense layer\n",
    "        \n",
    "        model.add(Activation(hidden_activation))                  # Add an activation function. This is needed\n",
    "                                                                  # because we did not add it when we created the\n",
    "                                                                  # partial dense layer\n",
    "        \n",
    "        add_dropout_layer(layer_num, dropout_rate, mc_dropout)    # Add dropout layer\n",
    "        \n",
    "    model.add(Dense(10, activation='softmax'))                    # Output layer\n",
    "    \n",
    "    return model"
   ]
  },
  {
   "cell_type": "code",
   "execution_count": 66,
   "metadata": {
    "scrolled": true
   },
   "outputs": [
    {
     "name": "stdout",
     "output_type": "stream",
     "text": [
      "Model: \"sequential_6\"\n",
      "_________________________________________________________________\n",
      "Layer (type)                 Output Shape              Param #   \n",
      "=================================================================\n",
      "dense_123 (Dense)            (None, 100)               307300    \n",
      "_________________________________________________________________\n",
      "activation_118 (Activation)  (None, 100)               0         \n",
      "_________________________________________________________________\n",
      "dense_124 (Dense)            (None, 100)               10100     \n",
      "_________________________________________________________________\n",
      "activation_119 (Activation)  (None, 100)               0         \n",
      "_________________________________________________________________\n",
      "dense_125 (Dense)            (None, 100)               10100     \n",
      "_________________________________________________________________\n",
      "activation_120 (Activation)  (None, 100)               0         \n",
      "_________________________________________________________________\n",
      "dense_126 (Dense)            (None, 100)               10100     \n",
      "_________________________________________________________________\n",
      "activation_121 (Activation)  (None, 100)               0         \n",
      "_________________________________________________________________\n",
      "dense_127 (Dense)            (None, 100)               10100     \n",
      "_________________________________________________________________\n",
      "activation_122 (Activation)  (None, 100)               0         \n",
      "_________________________________________________________________\n",
      "dense_128 (Dense)            (None, 100)               10100     \n",
      "_________________________________________________________________\n",
      "activation_123 (Activation)  (None, 100)               0         \n",
      "_________________________________________________________________\n",
      "dense_129 (Dense)            (None, 100)               10100     \n",
      "_________________________________________________________________\n",
      "activation_124 (Activation)  (None, 100)               0         \n",
      "_________________________________________________________________\n",
      "dense_130 (Dense)            (None, 100)               10100     \n",
      "_________________________________________________________________\n",
      "activation_125 (Activation)  (None, 100)               0         \n",
      "_________________________________________________________________\n",
      "dense_131 (Dense)            (None, 100)               10100     \n",
      "_________________________________________________________________\n",
      "activation_126 (Activation)  (None, 100)               0         \n",
      "_________________________________________________________________\n",
      "dense_132 (Dense)            (None, 100)               10100     \n",
      "_________________________________________________________________\n",
      "activation_127 (Activation)  (None, 100)               0         \n",
      "_________________________________________________________________\n",
      "dense_133 (Dense)            (None, 100)               10100     \n",
      "_________________________________________________________________\n",
      "activation_128 (Activation)  (None, 100)               0         \n",
      "_________________________________________________________________\n",
      "dense_134 (Dense)            (None, 100)               10100     \n",
      "_________________________________________________________________\n",
      "activation_129 (Activation)  (None, 100)               0         \n",
      "_________________________________________________________________\n",
      "dense_135 (Dense)            (None, 100)               10100     \n",
      "_________________________________________________________________\n",
      "activation_130 (Activation)  (None, 100)               0         \n",
      "_________________________________________________________________\n",
      "dense_136 (Dense)            (None, 100)               10100     \n",
      "_________________________________________________________________\n",
      "activation_131 (Activation)  (None, 100)               0         \n",
      "_________________________________________________________________\n",
      "dense_137 (Dense)            (None, 100)               10100     \n",
      "_________________________________________________________________\n",
      "activation_132 (Activation)  (None, 100)               0         \n",
      "_________________________________________________________________\n",
      "dense_138 (Dense)            (None, 100)               10100     \n",
      "_________________________________________________________________\n",
      "activation_133 (Activation)  (None, 100)               0         \n",
      "_________________________________________________________________\n",
      "dense_139 (Dense)            (None, 100)               10100     \n",
      "_________________________________________________________________\n",
      "activation_134 (Activation)  (None, 100)               0         \n",
      "_________________________________________________________________\n",
      "dense_140 (Dense)            (None, 100)               10100     \n",
      "_________________________________________________________________\n",
      "activation_135 (Activation)  (None, 100)               0         \n",
      "_________________________________________________________________\n",
      "dense_141 (Dense)            (None, 100)               10100     \n",
      "_________________________________________________________________\n",
      "activation_136 (Activation)  (None, 100)               0         \n",
      "_________________________________________________________________\n",
      "dense_142 (Dense)            (None, 100)               10100     \n",
      "_________________________________________________________________\n",
      "activation_137 (Activation)  (None, 100)               0         \n",
      "_________________________________________________________________\n",
      "dense_143 (Dense)            (None, 10)                1010      \n",
      "=================================================================\n",
      "Total params: 500,210\n",
      "Trainable params: 500,210\n",
      "Non-trainable params: 0\n",
      "_________________________________________________________________\n"
     ]
    }
   ],
   "source": [
    "model = create_model(with_bn=False)\n",
    "model.summary()"
   ]
  },
  {
   "cell_type": "code",
   "execution_count": 67,
   "metadata": {},
   "outputs": [],
   "source": [
    "model.compile(loss='sparse_categorical_crossentropy',\n",
    "              optimizer='nadam',\n",
    "              metrics=['accuracy'])"
   ]
  },
  {
   "cell_type": "code",
   "execution_count": 68,
   "metadata": {},
   "outputs": [],
   "source": [
    "early_stopping_cb = EarlyStopping(patience=10,\n",
    "                                  restore_best_weights=True)"
   ]
  },
  {
   "cell_type": "code",
   "execution_count": 69,
   "metadata": {
    "scrolled": true
   },
   "outputs": [
    {
     "name": "stdout",
     "output_type": "stream",
     "text": [
      "Train on 40000 samples, validate on 10000 samples\n",
      "Epoch 1/100\n",
      "40000/40000 [==============================] - 14s 349us/sample - loss: 3.6506 - accuracy: 0.2109 - val_loss: 1.9432 - val_accuracy: 0.2835\n",
      "Epoch 2/100\n",
      "40000/40000 [==============================] - 11s 266us/sample - loss: 1.9259 - accuracy: 0.2925 - val_loss: 1.8649 - val_accuracy: 0.3031\n",
      "Epoch 3/100\n",
      "40000/40000 [==============================] - 11s 266us/sample - loss: 1.8634 - accuracy: 0.3218 - val_loss: 1.9870 - val_accuracy: 0.2906\n",
      "Epoch 4/100\n",
      "40000/40000 [==============================] - 11s 265us/sample - loss: 1.8350 - accuracy: 0.3311 - val_loss: 1.8542 - val_accuracy: 0.3318\n",
      "Epoch 5/100\n",
      "40000/40000 [==============================] - 11s 264us/sample - loss: 1.8148 - accuracy: 0.3446 - val_loss: 1.8541 - val_accuracy: 0.3084\n",
      "Epoch 6/100\n",
      "40000/40000 [==============================] - 11s 265us/sample - loss: 1.7967 - accuracy: 0.3493 - val_loss: 1.7602 - val_accuracy: 0.3623\n",
      "Epoch 7/100\n",
      "40000/40000 [==============================] - 11s 267us/sample - loss: 1.7750 - accuracy: 0.3580 - val_loss: 1.7707 - val_accuracy: 0.3556\n",
      "Epoch 8/100\n",
      "40000/40000 [==============================] - 11s 267us/sample - loss: 1.7583 - accuracy: 0.3654 - val_loss: 1.7872 - val_accuracy: 0.3690\n",
      "Epoch 9/100\n",
      "40000/40000 [==============================] - 11s 274us/sample - loss: 1.7583 - accuracy: 0.3695 - val_loss: 1.7365 - val_accuracy: 0.3823\n",
      "Epoch 10/100\n",
      "40000/40000 [==============================] - 11s 271us/sample - loss: 1.7426 - accuracy: 0.3730 - val_loss: 1.7382 - val_accuracy: 0.3820\n",
      "Epoch 11/100\n",
      "40000/40000 [==============================] - 11s 271us/sample - loss: 1.7205 - accuracy: 0.3837 - val_loss: 1.7736 - val_accuracy: 0.3723\n",
      "Epoch 12/100\n",
      "40000/40000 [==============================] - 11s 271us/sample - loss: 1.7117 - accuracy: 0.3857 - val_loss: 1.7276 - val_accuracy: 0.3784\n",
      "Epoch 13/100\n",
      "40000/40000 [==============================] - 11s 271us/sample - loss: 1.6989 - accuracy: 0.3923 - val_loss: 1.7502 - val_accuracy: 0.3739\n",
      "Epoch 14/100\n",
      "40000/40000 [==============================] - 11s 269us/sample - loss: 1.7363 - accuracy: 0.3739 - val_loss: 1.7301 - val_accuracy: 0.3746\n",
      "Epoch 15/100\n",
      "40000/40000 [==============================] - 11s 271us/sample - loss: 1.7506 - accuracy: 0.3823 - val_loss: 1.8693 - val_accuracy: 0.3133\n",
      "Epoch 16/100\n",
      "40000/40000 [==============================] - 11s 272us/sample - loss: 1.7351 - accuracy: 0.3705 - val_loss: 1.7688 - val_accuracy: 0.3535\n",
      "Epoch 17/100\n",
      "40000/40000 [==============================] - 11s 271us/sample - loss: 1.6876 - accuracy: 0.3934 - val_loss: 1.7393 - val_accuracy: 0.3654\n",
      "Epoch 18/100\n",
      "40000/40000 [==============================] - 11s 271us/sample - loss: 1.6716 - accuracy: 0.3978 - val_loss: 1.7185 - val_accuracy: 0.3805\n",
      "Epoch 19/100\n",
      "40000/40000 [==============================] - 11s 272us/sample - loss: 1.6614 - accuracy: 0.4035 - val_loss: 1.6974 - val_accuracy: 0.4062\n",
      "Epoch 20/100\n",
      "40000/40000 [==============================] - 11s 275us/sample - loss: 1.6516 - accuracy: 0.4089 - val_loss: 1.6705 - val_accuracy: 0.3973\n",
      "Epoch 21/100\n",
      "40000/40000 [==============================] - 11s 277us/sample - loss: 1.6447 - accuracy: 0.4099 - val_loss: 1.6606 - val_accuracy: 0.4063\n",
      "Epoch 22/100\n",
      "40000/40000 [==============================] - 11s 273us/sample - loss: 1.6437 - accuracy: 0.4088 - val_loss: 1.6680 - val_accuracy: 0.4039\n",
      "Epoch 23/100\n",
      "40000/40000 [==============================] - 11s 269us/sample - loss: 1.6235 - accuracy: 0.4183 - val_loss: 1.6748 - val_accuracy: 0.4042\n",
      "Epoch 24/100\n",
      "40000/40000 [==============================] - 11s 269us/sample - loss: 1.6175 - accuracy: 0.4202 - val_loss: 1.6584 - val_accuracy: 0.4096\n",
      "Epoch 25/100\n",
      "40000/40000 [==============================] - 11s 268us/sample - loss: 1.9919 - accuracy: 0.3528 - val_loss: 1.7665 - val_accuracy: 0.3460\n",
      "Epoch 26/100\n",
      "40000/40000 [==============================] - 11s 270us/sample - loss: 1.7164 - accuracy: 0.3683 - val_loss: 1.7434 - val_accuracy: 0.3563\n",
      "Epoch 27/100\n",
      "40000/40000 [==============================] - 11s 273us/sample - loss: 1.6931 - accuracy: 0.3806 - val_loss: 1.7248 - val_accuracy: 0.3689\n",
      "Epoch 28/100\n",
      "40000/40000 [==============================] - 11s 277us/sample - loss: 1.6793 - accuracy: 0.3878 - val_loss: 1.7324 - val_accuracy: 0.3675\n",
      "Epoch 29/100\n",
      "40000/40000 [==============================] - 11s 276us/sample - loss: 1.6693 - accuracy: 0.3907 - val_loss: 1.6973 - val_accuracy: 0.3877\n",
      "Epoch 30/100\n",
      "40000/40000 [==============================] - 11s 275us/sample - loss: 1.6576 - accuracy: 0.3934 - val_loss: 1.6932 - val_accuracy: 0.3888\n",
      "Epoch 31/100\n",
      "40000/40000 [==============================] - 11s 277us/sample - loss: 1.6443 - accuracy: 0.4031 - val_loss: 1.6694 - val_accuracy: 0.3989\n",
      "Epoch 32/100\n",
      "40000/40000 [==============================] - 11s 272us/sample - loss: 1.6243 - accuracy: 0.4121 - val_loss: 1.6955 - val_accuracy: 0.3989\n",
      "Epoch 33/100\n",
      "40000/40000 [==============================] - 11s 267us/sample - loss: 1.8383 - accuracy: 0.3156 - val_loss: 1.7902 - val_accuracy: 0.3482\n",
      "Epoch 34/100\n",
      "40000/40000 [==============================] - 11s 269us/sample - loss: 1.7332 - accuracy: 0.3674 - val_loss: 1.7626 - val_accuracy: 0.3559\n"
     ]
    }
   ],
   "source": [
    "history = model.fit(X_train, y_train, epochs=100,\n",
    "                    validation_data=(X_val, y_val),\n",
    "                    callbacks=[early_stopping_cb])"
   ]
  },
  {
   "cell_type": "code",
   "execution_count": 70,
   "metadata": {},
   "outputs": [
    {
     "name": "stdout",
     "output_type": "stream",
     "text": [
      "Model: \"sequential_7\"\n",
      "_________________________________________________________________\n",
      "Layer (type)                 Output Shape              Param #   \n",
      "=================================================================\n",
      "batch_normalization_21 (Batc (None, 3072)              12288     \n",
      "_________________________________________________________________\n",
      "dense_144 (Dense)            (None, 100)               307200    \n",
      "_________________________________________________________________\n",
      "batch_normalization_22 (Batc (None, 100)               400       \n",
      "_________________________________________________________________\n",
      "activation_138 (Activation)  (None, 100)               0         \n",
      "_________________________________________________________________\n",
      "dense_145 (Dense)            (None, 100)               10000     \n",
      "_________________________________________________________________\n",
      "batch_normalization_23 (Batc (None, 100)               400       \n",
      "_________________________________________________________________\n",
      "activation_139 (Activation)  (None, 100)               0         \n",
      "_________________________________________________________________\n",
      "dense_146 (Dense)            (None, 100)               10000     \n",
      "_________________________________________________________________\n",
      "batch_normalization_24 (Batc (None, 100)               400       \n",
      "_________________________________________________________________\n",
      "activation_140 (Activation)  (None, 100)               0         \n",
      "_________________________________________________________________\n",
      "dense_147 (Dense)            (None, 100)               10000     \n",
      "_________________________________________________________________\n",
      "batch_normalization_25 (Batc (None, 100)               400       \n",
      "_________________________________________________________________\n",
      "activation_141 (Activation)  (None, 100)               0         \n",
      "_________________________________________________________________\n",
      "dense_148 (Dense)            (None, 100)               10000     \n",
      "_________________________________________________________________\n",
      "batch_normalization_26 (Batc (None, 100)               400       \n",
      "_________________________________________________________________\n",
      "activation_142 (Activation)  (None, 100)               0         \n",
      "_________________________________________________________________\n",
      "dense_149 (Dense)            (None, 100)               10000     \n",
      "_________________________________________________________________\n",
      "batch_normalization_27 (Batc (None, 100)               400       \n",
      "_________________________________________________________________\n",
      "activation_143 (Activation)  (None, 100)               0         \n",
      "_________________________________________________________________\n",
      "dense_150 (Dense)            (None, 100)               10000     \n",
      "_________________________________________________________________\n",
      "batch_normalization_28 (Batc (None, 100)               400       \n",
      "_________________________________________________________________\n",
      "activation_144 (Activation)  (None, 100)               0         \n",
      "_________________________________________________________________\n",
      "dense_151 (Dense)            (None, 100)               10000     \n",
      "_________________________________________________________________\n",
      "batch_normalization_29 (Batc (None, 100)               400       \n",
      "_________________________________________________________________\n",
      "activation_145 (Activation)  (None, 100)               0         \n",
      "_________________________________________________________________\n",
      "dense_152 (Dense)            (None, 100)               10000     \n",
      "_________________________________________________________________\n",
      "batch_normalization_30 (Batc (None, 100)               400       \n",
      "_________________________________________________________________\n",
      "activation_146 (Activation)  (None, 100)               0         \n",
      "_________________________________________________________________\n",
      "dense_153 (Dense)            (None, 100)               10000     \n",
      "_________________________________________________________________\n",
      "batch_normalization_31 (Batc (None, 100)               400       \n",
      "_________________________________________________________________\n",
      "activation_147 (Activation)  (None, 100)               0         \n",
      "_________________________________________________________________\n",
      "dense_154 (Dense)            (None, 100)               10000     \n",
      "_________________________________________________________________\n",
      "batch_normalization_32 (Batc (None, 100)               400       \n",
      "_________________________________________________________________\n",
      "activation_148 (Activation)  (None, 100)               0         \n",
      "_________________________________________________________________\n",
      "dense_155 (Dense)            (None, 100)               10000     \n",
      "_________________________________________________________________\n",
      "batch_normalization_33 (Batc (None, 100)               400       \n",
      "_________________________________________________________________\n",
      "activation_149 (Activation)  (None, 100)               0         \n",
      "_________________________________________________________________\n",
      "dense_156 (Dense)            (None, 100)               10000     \n",
      "_________________________________________________________________\n",
      "batch_normalization_34 (Batc (None, 100)               400       \n",
      "_________________________________________________________________\n",
      "activation_150 (Activation)  (None, 100)               0         \n",
      "_________________________________________________________________\n",
      "dense_157 (Dense)            (None, 100)               10000     \n",
      "_________________________________________________________________\n",
      "batch_normalization_35 (Batc (None, 100)               400       \n",
      "_________________________________________________________________\n",
      "activation_151 (Activation)  (None, 100)               0         \n",
      "_________________________________________________________________\n",
      "dense_158 (Dense)            (None, 100)               10000     \n",
      "_________________________________________________________________\n",
      "batch_normalization_36 (Batc (None, 100)               400       \n",
      "_________________________________________________________________\n",
      "activation_152 (Activation)  (None, 100)               0         \n",
      "_________________________________________________________________\n",
      "dense_159 (Dense)            (None, 100)               10000     \n",
      "_________________________________________________________________\n",
      "batch_normalization_37 (Batc (None, 100)               400       \n",
      "_________________________________________________________________\n",
      "activation_153 (Activation)  (None, 100)               0         \n",
      "_________________________________________________________________\n",
      "dense_160 (Dense)            (None, 100)               10000     \n",
      "_________________________________________________________________\n",
      "batch_normalization_38 (Batc (None, 100)               400       \n",
      "_________________________________________________________________\n",
      "activation_154 (Activation)  (None, 100)               0         \n",
      "_________________________________________________________________\n",
      "dense_161 (Dense)            (None, 100)               10000     \n",
      "_________________________________________________________________\n",
      "batch_normalization_39 (Batc (None, 100)               400       \n",
      "_________________________________________________________________\n",
      "activation_155 (Activation)  (None, 100)               0         \n",
      "_________________________________________________________________\n",
      "dense_162 (Dense)            (None, 100)               10000     \n",
      "_________________________________________________________________\n",
      "batch_normalization_40 (Batc (None, 100)               400       \n",
      "_________________________________________________________________\n",
      "activation_156 (Activation)  (None, 100)               0         \n",
      "_________________________________________________________________\n",
      "dense_163 (Dense)            (None, 100)               10000     \n",
      "_________________________________________________________________\n",
      "batch_normalization_41 (Batc (None, 100)               400       \n",
      "_________________________________________________________________\n",
      "activation_157 (Activation)  (None, 100)               0         \n",
      "_________________________________________________________________\n",
      "dense_164 (Dense)            (None, 10)                1010      \n",
      "=================================================================\n",
      "Total params: 518,498\n",
      "Trainable params: 508,354\n",
      "Non-trainable params: 10,144\n",
      "_________________________________________________________________\n"
     ]
    }
   ],
   "source": [
    "model = create_model(with_bn=True)\n",
    "model.summary()"
   ]
  },
  {
   "cell_type": "code",
   "execution_count": 71,
   "metadata": {},
   "outputs": [],
   "source": [
    "model.compile(loss='sparse_categorical_crossentropy',\n",
    "              optimizer='nadam',\n",
    "              metrics=['accuracy'])"
   ]
  },
  {
   "cell_type": "code",
   "execution_count": 72,
   "metadata": {},
   "outputs": [],
   "source": [
    "early_stopping_cb = EarlyStopping(patience=10,\n",
    "                                  restore_best_weights=True)"
   ]
  },
  {
   "cell_type": "code",
   "execution_count": 73,
   "metadata": {
    "scrolled": true
   },
   "outputs": [
    {
     "name": "stdout",
     "output_type": "stream",
     "text": [
      "Train on 40000 samples, validate on 10000 samples\n",
      "Epoch 1/100\n",
      "40000/40000 [==============================] - 24s 589us/sample - loss: 1.8532 - accuracy: 0.3353 - val_loss: 1.6860 - val_accuracy: 0.3923\n",
      "Epoch 2/100\n",
      "40000/40000 [==============================] - 16s 409us/sample - loss: 1.6913 - accuracy: 0.3943 - val_loss: 1.6536 - val_accuracy: 0.4035\n",
      "Epoch 3/100\n",
      "40000/40000 [==============================] - 16s 408us/sample - loss: 1.6207 - accuracy: 0.4211 - val_loss: 1.5588 - val_accuracy: 0.4403\n",
      "Epoch 4/100\n",
      "40000/40000 [==============================] - 16s 406us/sample - loss: 1.5730 - accuracy: 0.4424 - val_loss: 1.5318 - val_accuracy: 0.4502\n",
      "Epoch 5/100\n",
      "40000/40000 [==============================] - 16s 408us/sample - loss: 1.5327 - accuracy: 0.4546 - val_loss: 1.5035 - val_accuracy: 0.4626\n",
      "Epoch 6/100\n",
      "40000/40000 [==============================] - 16s 403us/sample - loss: 1.5001 - accuracy: 0.4692 - val_loss: 1.4783 - val_accuracy: 0.4739\n",
      "Epoch 7/100\n",
      "40000/40000 [==============================] - 16s 409us/sample - loss: 1.4590 - accuracy: 0.4807 - val_loss: 1.4233 - val_accuracy: 0.4941\n",
      "Epoch 8/100\n",
      "40000/40000 [==============================] - 17s 414us/sample - loss: 1.4306 - accuracy: 0.4930 - val_loss: 1.4371 - val_accuracy: 0.4949\n",
      "Epoch 9/100\n",
      "40000/40000 [==============================] - 16s 412us/sample - loss: 1.4045 - accuracy: 0.5017 - val_loss: 1.4177 - val_accuracy: 0.4995\n",
      "Epoch 10/100\n",
      "40000/40000 [==============================] - 16s 411us/sample - loss: 1.3746 - accuracy: 0.5129 - val_loss: 1.4029 - val_accuracy: 0.5024\n",
      "Epoch 11/100\n",
      "40000/40000 [==============================] - 16s 410us/sample - loss: 1.3556 - accuracy: 0.5208 - val_loss: 1.3907 - val_accuracy: 0.5106\n",
      "Epoch 12/100\n",
      "40000/40000 [==============================] - 17s 415us/sample - loss: 1.3316 - accuracy: 0.5328 - val_loss: 1.3997 - val_accuracy: 0.4989\n",
      "Epoch 13/100\n",
      "40000/40000 [==============================] - 17s 421us/sample - loss: 1.3116 - accuracy: 0.5391 - val_loss: 1.3985 - val_accuracy: 0.5078\n",
      "Epoch 14/100\n",
      "40000/40000 [==============================] - 17s 423us/sample - loss: 1.2953 - accuracy: 0.5416 - val_loss: 1.3810 - val_accuracy: 0.5091\n",
      "Epoch 15/100\n",
      "40000/40000 [==============================] - 16s 409us/sample - loss: 1.2728 - accuracy: 0.5482 - val_loss: 1.3813 - val_accuracy: 0.5155\n",
      "Epoch 16/100\n",
      "40000/40000 [==============================] - 17s 415us/sample - loss: 1.2574 - accuracy: 0.5577 - val_loss: 1.3762 - val_accuracy: 0.5154\n",
      "Epoch 17/100\n",
      "40000/40000 [==============================] - 17s 426us/sample - loss: 1.2414 - accuracy: 0.5646 - val_loss: 1.3848 - val_accuracy: 0.5113\n",
      "Epoch 18/100\n",
      "40000/40000 [==============================] - 17s 423us/sample - loss: 1.2244 - accuracy: 0.5713 - val_loss: 1.4122 - val_accuracy: 0.5094\n",
      "Epoch 19/100\n",
      "40000/40000 [==============================] - 16s 407us/sample - loss: 1.2052 - accuracy: 0.5762 - val_loss: 1.3724 - val_accuracy: 0.5224\n",
      "Epoch 20/100\n",
      "40000/40000 [==============================] - 16s 407us/sample - loss: 1.1913 - accuracy: 0.5825 - val_loss: 1.3738 - val_accuracy: 0.5225\n",
      "Epoch 21/100\n",
      "40000/40000 [==============================] - 16s 408us/sample - loss: 1.1774 - accuracy: 0.5888 - val_loss: 1.3946 - val_accuracy: 0.5188\n",
      "Epoch 22/100\n",
      "40000/40000 [==============================] - 16s 409us/sample - loss: 1.1594 - accuracy: 0.5946 - val_loss: 1.3640 - val_accuracy: 0.5271\n",
      "Epoch 23/100\n",
      "40000/40000 [==============================] - 16s 411us/sample - loss: 1.1487 - accuracy: 0.5958 - val_loss: 1.4013 - val_accuracy: 0.5108\n",
      "Epoch 24/100\n",
      "40000/40000 [==============================] - 17s 413us/sample - loss: 1.1327 - accuracy: 0.6036 - val_loss: 1.3681 - val_accuracy: 0.5236\n",
      "Epoch 25/100\n",
      "40000/40000 [==============================] - 17s 413us/sample - loss: 1.1261 - accuracy: 0.6074 - val_loss: 1.3760 - val_accuracy: 0.5200\n",
      "Epoch 26/100\n",
      "40000/40000 [==============================] - 17s 413us/sample - loss: 1.1064 - accuracy: 0.6117 - val_loss: 1.3984 - val_accuracy: 0.5267\n",
      "Epoch 27/100\n",
      "40000/40000 [==============================] - 17s 417us/sample - loss: 1.0908 - accuracy: 0.6218 - val_loss: 1.4094 - val_accuracy: 0.5153\n",
      "Epoch 28/100\n",
      "40000/40000 [==============================] - 17s 420us/sample - loss: 1.0810 - accuracy: 0.6242 - val_loss: 1.3614 - val_accuracy: 0.5279\n",
      "Epoch 29/100\n",
      "40000/40000 [==============================] - 17s 417us/sample - loss: 1.0719 - accuracy: 0.6231 - val_loss: 1.3702 - val_accuracy: 0.5338\n",
      "Epoch 30/100\n",
      "40000/40000 [==============================] - 16s 410us/sample - loss: 1.0637 - accuracy: 0.6266 - val_loss: 1.3992 - val_accuracy: 0.5272\n",
      "Epoch 31/100\n",
      "40000/40000 [==============================] - 17s 415us/sample - loss: 1.0442 - accuracy: 0.6347 - val_loss: 1.4465 - val_accuracy: 0.5179\n",
      "Epoch 32/100\n",
      "40000/40000 [==============================] - 17s 415us/sample - loss: 1.0370 - accuracy: 0.6368 - val_loss: 1.3681 - val_accuracy: 0.5363\n",
      "Epoch 33/100\n",
      "40000/40000 [==============================] - 18s 446us/sample - loss: 1.0127 - accuracy: 0.6425 - val_loss: 1.3837 - val_accuracy: 0.5277\n",
      "Epoch 34/100\n",
      "40000/40000 [==============================] - 18s 450us/sample - loss: 1.0092 - accuracy: 0.6489 - val_loss: 1.3900 - val_accuracy: 0.5245\n",
      "Epoch 35/100\n",
      "40000/40000 [==============================] - 18s 450us/sample - loss: 0.9953 - accuracy: 0.6504 - val_loss: 1.4212 - val_accuracy: 0.5258\n",
      "Epoch 36/100\n",
      "40000/40000 [==============================] - 17s 421us/sample - loss: 0.9869 - accuracy: 0.6541 - val_loss: 1.4580 - val_accuracy: 0.5160\n",
      "Epoch 37/100\n",
      "40000/40000 [==============================] - 17s 414us/sample - loss: 0.9828 - accuracy: 0.6552 - val_loss: 1.4381 - val_accuracy: 0.5229\n",
      "Epoch 38/100\n",
      "40000/40000 [==============================] - 17s 422us/sample - loss: 0.9713 - accuracy: 0.6603 - val_loss: 1.4457 - val_accuracy: 0.5162\n"
     ]
    }
   ],
   "source": [
    "history = model.fit(X_train, y_train, epochs=100,\n",
    "                    validation_data=(X_val, y_val),\n",
    "                    callbacks=[early_stopping_cb])"
   ]
  },
  {
   "cell_type": "code",
   "execution_count": 74,
   "metadata": {},
   "outputs": [],
   "source": [
    "# Standardize data so you can use it with SELU and \n",
    "# get a net that self-normalizes\n",
    "X_train = (X_train - np.mean(X_train)) / np.std(X_train)\n",
    "X_val = (X_val - np.mean(X_val)) / np.std(X_val)\n",
    "X_test = (X_test - np.mean(X_test)) / np.std(X_test)"
   ]
  },
  {
   "cell_type": "code",
   "execution_count": 75,
   "metadata": {},
   "outputs": [
    {
     "data": {
      "text/plain": [
       "(array([[-0.25880869,  0.17801875,  0.69285109, ..., -0.18080379,\n",
       "          0.05321091,  0.36523051]]),\n",
       " array([[-0.23589639,  0.50998215,  2.00173923, ..., -0.00280935,\n",
       "          0.82076487,  2.06389577]]),\n",
       " array([[ 0.56931459, -0.14875133, -1.13218945, ..., -1.56927306,\n",
       "         -0.85120713, -0.17997159]]))"
      ]
     },
     "execution_count": 75,
     "metadata": {},
     "output_type": "execute_result"
    }
   ],
   "source": [
    "# Verify data is standardized\n",
    "X_train[:1], X_val[:1], X_test[:1]"
   ]
  },
  {
   "cell_type": "code",
   "execution_count": 102,
   "metadata": {
    "scrolled": true
   },
   "outputs": [
    {
     "name": "stdout",
     "output_type": "stream",
     "text": [
      "Model: \"sequential_15\"\n",
      "_________________________________________________________________\n",
      "Layer (type)                 Output Shape              Param #   \n",
      "=================================================================\n",
      "dense_312 (Dense)            (None, 100)               307300    \n",
      "_________________________________________________________________\n",
      "activation_298 (Activation)  (None, 100)               0         \n",
      "_________________________________________________________________\n",
      "dense_313 (Dense)            (None, 100)               10100     \n",
      "_________________________________________________________________\n",
      "activation_299 (Activation)  (None, 100)               0         \n",
      "_________________________________________________________________\n",
      "dense_314 (Dense)            (None, 100)               10100     \n",
      "_________________________________________________________________\n",
      "activation_300 (Activation)  (None, 100)               0         \n",
      "_________________________________________________________________\n",
      "dense_315 (Dense)            (None, 100)               10100     \n",
      "_________________________________________________________________\n",
      "activation_301 (Activation)  (None, 100)               0         \n",
      "_________________________________________________________________\n",
      "dense_316 (Dense)            (None, 100)               10100     \n",
      "_________________________________________________________________\n",
      "activation_302 (Activation)  (None, 100)               0         \n",
      "_________________________________________________________________\n",
      "dense_317 (Dense)            (None, 100)               10100     \n",
      "_________________________________________________________________\n",
      "activation_303 (Activation)  (None, 100)               0         \n",
      "_________________________________________________________________\n",
      "dense_318 (Dense)            (None, 100)               10100     \n",
      "_________________________________________________________________\n",
      "activation_304 (Activation)  (None, 100)               0         \n",
      "_________________________________________________________________\n",
      "dense_319 (Dense)            (None, 100)               10100     \n",
      "_________________________________________________________________\n",
      "activation_305 (Activation)  (None, 100)               0         \n",
      "_________________________________________________________________\n",
      "dense_320 (Dense)            (None, 100)               10100     \n",
      "_________________________________________________________________\n",
      "activation_306 (Activation)  (None, 100)               0         \n",
      "_________________________________________________________________\n",
      "dense_321 (Dense)            (None, 100)               10100     \n",
      "_________________________________________________________________\n",
      "activation_307 (Activation)  (None, 100)               0         \n",
      "_________________________________________________________________\n",
      "dense_322 (Dense)            (None, 100)               10100     \n",
      "_________________________________________________________________\n",
      "activation_308 (Activation)  (None, 100)               0         \n",
      "_________________________________________________________________\n",
      "dense_323 (Dense)            (None, 100)               10100     \n",
      "_________________________________________________________________\n",
      "activation_309 (Activation)  (None, 100)               0         \n",
      "_________________________________________________________________\n",
      "dense_324 (Dense)            (None, 100)               10100     \n",
      "_________________________________________________________________\n",
      "activation_310 (Activation)  (None, 100)               0         \n",
      "_________________________________________________________________\n",
      "dense_325 (Dense)            (None, 100)               10100     \n",
      "_________________________________________________________________\n",
      "activation_311 (Activation)  (None, 100)               0         \n",
      "_________________________________________________________________\n",
      "dense_326 (Dense)            (None, 100)               10100     \n",
      "_________________________________________________________________\n",
      "activation_312 (Activation)  (None, 100)               0         \n",
      "_________________________________________________________________\n",
      "dense_327 (Dense)            (None, 100)               10100     \n",
      "_________________________________________________________________\n",
      "activation_313 (Activation)  (None, 100)               0         \n",
      "_________________________________________________________________\n",
      "dense_328 (Dense)            (None, 100)               10100     \n",
      "_________________________________________________________________\n",
      "activation_314 (Activation)  (None, 100)               0         \n",
      "_________________________________________________________________\n",
      "dense_329 (Dense)            (None, 100)               10100     \n",
      "_________________________________________________________________\n",
      "activation_315 (Activation)  (None, 100)               0         \n",
      "_________________________________________________________________\n",
      "dense_330 (Dense)            (None, 100)               10100     \n",
      "_________________________________________________________________\n",
      "activation_316 (Activation)  (None, 100)               0         \n",
      "_________________________________________________________________\n",
      "dense_331 (Dense)            (None, 100)               10100     \n",
      "_________________________________________________________________\n",
      "activation_317 (Activation)  (None, 100)               0         \n",
      "_________________________________________________________________\n",
      "dense_332 (Dense)            (None, 10)                1010      \n",
      "=================================================================\n",
      "Total params: 500,210\n",
      "Trainable params: 500,210\n",
      "Non-trainable params: 0\n",
      "_________________________________________________________________\n"
     ]
    }
   ],
   "source": [
    "model = create_model(with_bn=False, \n",
    "                     initialization='lecun_normal', \n",
    "                     hidden_activation='selu')\n",
    "model.summary()"
   ]
  },
  {
   "cell_type": "code",
   "execution_count": 103,
   "metadata": {},
   "outputs": [],
   "source": [
    "model.compile(loss='sparse_categorical_crossentropy',\n",
    "              optimizer='nadam',\n",
    "              metrics=['accuracy'])"
   ]
  },
  {
   "cell_type": "code",
   "execution_count": 104,
   "metadata": {},
   "outputs": [],
   "source": [
    "early_stopping_cb = EarlyStopping(patience=10,\n",
    "                                  restore_best_weights=True)"
   ]
  },
  {
   "cell_type": "code",
   "execution_count": 105,
   "metadata": {
    "scrolled": true
   },
   "outputs": [
    {
     "name": "stdout",
     "output_type": "stream",
     "text": [
      "Train on 40000 samples, validate on 10000 samples\n",
      "Epoch 1/100\n",
      "40000/40000 [==============================] - 17s 429us/sample - loss: 1.9997 - accuracy: 0.2793 - val_loss: 1.9119 - val_accuracy: 0.3134\n",
      "Epoch 2/100\n",
      "40000/40000 [==============================] - 13s 334us/sample - loss: 1.7919 - accuracy: 0.3595 - val_loss: 1.7603 - val_accuracy: 0.3642\n",
      "Epoch 3/100\n",
      "40000/40000 [==============================] - 13s 327us/sample - loss: 1.6992 - accuracy: 0.3954 - val_loss: 1.6612 - val_accuracy: 0.4153\n",
      "Epoch 4/100\n",
      "40000/40000 [==============================] - 13s 319us/sample - loss: 1.6338 - accuracy: 0.4193 - val_loss: 1.6965 - val_accuracy: 0.4068\n",
      "Epoch 5/100\n",
      "40000/40000 [==============================] - 13s 325us/sample - loss: 1.5825 - accuracy: 0.4399 - val_loss: 1.6449 - val_accuracy: 0.4098\n",
      "Epoch 6/100\n",
      "40000/40000 [==============================] - 13s 323us/sample - loss: 1.5399 - accuracy: 0.4574 - val_loss: 1.6097 - val_accuracy: 0.4343\n",
      "Epoch 7/100\n",
      "40000/40000 [==============================] - 13s 326us/sample - loss: 1.4982 - accuracy: 0.4731 - val_loss: 1.5949 - val_accuracy: 0.4442\n",
      "Epoch 8/100\n",
      "40000/40000 [==============================] - 13s 324us/sample - loss: 1.4632 - accuracy: 0.4861 - val_loss: 1.6116 - val_accuracy: 0.4322\n",
      "Epoch 9/100\n",
      "40000/40000 [==============================] - 13s 325us/sample - loss: 1.4402 - accuracy: 0.4956 - val_loss: 1.5816 - val_accuracy: 0.4566\n",
      "Epoch 10/100\n",
      "40000/40000 [==============================] - 13s 322us/sample - loss: 1.4128 - accuracy: 0.5085 - val_loss: 1.5387 - val_accuracy: 0.4619\n",
      "Epoch 11/100\n",
      "40000/40000 [==============================] - 13s 320us/sample - loss: 1.3774 - accuracy: 0.5198 - val_loss: 2.2246 - val_accuracy: 0.4672\n",
      "Epoch 12/100\n",
      "40000/40000 [==============================] - 13s 321us/sample - loss: 1.3480 - accuracy: 0.5335 - val_loss: 1.6255 - val_accuracy: 0.4598\n",
      "Epoch 13/100\n",
      "40000/40000 [==============================] - 13s 320us/sample - loss: 1.3317 - accuracy: 0.5404 - val_loss: 1.5129 - val_accuracy: 0.4815\n",
      "Epoch 14/100\n",
      "40000/40000 [==============================] - 13s 320us/sample - loss: 1.3018 - accuracy: 0.5492 - val_loss: 1.5278 - val_accuracy: 0.4862\n",
      "Epoch 15/100\n",
      "40000/40000 [==============================] - 13s 322us/sample - loss: 1.2812 - accuracy: 0.5570 - val_loss: 1.5268 - val_accuracy: 0.4776\n",
      "Epoch 16/100\n",
      "40000/40000 [==============================] - 13s 322us/sample - loss: 1.2661 - accuracy: 0.5639 - val_loss: 1.5678 - val_accuracy: 0.4647\n",
      "Epoch 17/100\n",
      "40000/40000 [==============================] - 13s 324us/sample - loss: 1.2387 - accuracy: 0.5711 - val_loss: 1.5742 - val_accuracy: 0.4815\n",
      "Epoch 18/100\n",
      "40000/40000 [==============================] - 13s 323us/sample - loss: 1.2047 - accuracy: 0.5843 - val_loss: 1.5456 - val_accuracy: 0.4894\n",
      "Epoch 19/100\n",
      "40000/40000 [==============================] - 13s 322us/sample - loss: 1.1943 - accuracy: 0.5898 - val_loss: 1.5788 - val_accuracy: 0.4666\n",
      "Epoch 20/100\n",
      "40000/40000 [==============================] - 13s 323us/sample - loss: 75.1393 - accuracy: 0.5575 - val_loss: 1.6510 - val_accuracy: 0.4224\n",
      "Epoch 21/100\n",
      "40000/40000 [==============================] - 13s 323us/sample - loss: 1.3657 - accuracy: 0.5203 - val_loss: 1.5614 - val_accuracy: 0.4704\n",
      "Epoch 22/100\n",
      "40000/40000 [==============================] - 13s 322us/sample - loss: 1.2850 - accuracy: 0.5482 - val_loss: 2.2650 - val_accuracy: 0.4686\n",
      "Epoch 23/100\n",
      "40000/40000 [==============================] - 13s 320us/sample - loss: 1.2461 - accuracy: 0.5657 - val_loss: 1.5529 - val_accuracy: 0.4804\n"
     ]
    }
   ],
   "source": [
    "history = model.fit(X_train, y_train, epochs=100,\n",
    "                    validation_data=(X_val, y_val),\n",
    "                    callbacks=[early_stopping_cb])"
   ]
  },
  {
   "cell_type": "code",
   "execution_count": 106,
   "metadata": {},
   "outputs": [
    {
     "name": "stdout",
     "output_type": "stream",
     "text": [
      "accuracy for model: 0.4815\n"
     ]
    }
   ],
   "source": [
    "y_pred = model.predict(X_val)\n",
    "y_pred_classes = np.argmax(y_pred, axis=1)\n",
    "print(f'accuracy for model: {accuracy_score(y_val, y_pred_classes)}')"
   ]
  },
  {
   "cell_type": "code",
   "execution_count": 87,
   "metadata": {
    "scrolled": true
   },
   "outputs": [
    {
     "name": "stdout",
     "output_type": "stream",
     "text": [
      "    >>>>>>>>>>>>>>>>>>>>>>>>>>>>>>>>>>>>>>>>>>>>>>>>>>\n",
      "    >>>>>>>>>>>>>>>>> For dropout_rate: 0.1\n",
      "    >>>>>>>>>>>>>>>>>>>>>>>>>>>>>>>>>>>>>>>>>>>>>>>>>>\n",
      "Train on 40000 samples, validate on 10000 samples\n",
      "Epoch 1/100\n",
      "40000/40000 [==============================] - 17s 431us/sample - loss: 2.0255 - accuracy: 0.2648 - val_loss: 1.8834 - val_accuracy: 0.3092\n",
      "Epoch 2/100\n",
      "40000/40000 [==============================] - 13s 334us/sample - loss: 1.8020 - accuracy: 0.3510 - val_loss: 1.8001 - val_accuracy: 0.3721\n",
      "Epoch 3/100\n",
      "40000/40000 [==============================] - 14s 340us/sample - loss: 1.7282 - accuracy: 0.3816 - val_loss: 1.8310 - val_accuracy: 0.3827\n",
      "Epoch 4/100\n",
      "40000/40000 [==============================] - 13s 335us/sample - loss: 1.6758 - accuracy: 0.4024 - val_loss: 1.7611 - val_accuracy: 0.3904\n",
      "Epoch 5/100\n",
      "40000/40000 [==============================] - 13s 333us/sample - loss: 1.6364 - accuracy: 0.4193 - val_loss: 1.7034 - val_accuracy: 0.3962\n",
      "Epoch 6/100\n",
      "40000/40000 [==============================] - 13s 332us/sample - loss: 1.6084 - accuracy: 0.4313 - val_loss: 1.7604 - val_accuracy: 0.4217\n",
      "Epoch 7/100\n",
      "40000/40000 [==============================] - 13s 333us/sample - loss: 1.5813 - accuracy: 0.4401 - val_loss: 1.6694 - val_accuracy: 0.4222\n",
      "Epoch 8/100\n",
      "40000/40000 [==============================] - 13s 332us/sample - loss: 1.5913 - accuracy: 0.4358 - val_loss: 1.7795 - val_accuracy: 0.4180\n",
      "Epoch 9/100\n",
      "40000/40000 [==============================] - 13s 324us/sample - loss: 1.5436 - accuracy: 0.4538 - val_loss: 1.6834 - val_accuracy: 0.4311\n",
      "Epoch 10/100\n",
      "40000/40000 [==============================] - 13s 327us/sample - loss: 1.5102 - accuracy: 0.4654 - val_loss: 1.7035 - val_accuracy: 0.4413\n",
      "Epoch 11/100\n",
      "40000/40000 [==============================] - 13s 329us/sample - loss: 1.4697 - accuracy: 0.4796 - val_loss: 1.7548 - val_accuracy: 0.4424\n",
      "Epoch 12/100\n",
      "40000/40000 [==============================] - 13s 331us/sample - loss: 1.4551 - accuracy: 0.4861 - val_loss: 1.6730 - val_accuracy: 0.4423\n",
      "Epoch 13/100\n",
      "40000/40000 [==============================] - 13s 329us/sample - loss: 1.4557 - accuracy: 0.4878 - val_loss: 1.6914 - val_accuracy: 0.4531\n",
      "Epoch 14/100\n",
      "40000/40000 [==============================] - 13s 330us/sample - loss: 1.4430 - accuracy: 0.4951 - val_loss: 1.7173 - val_accuracy: 0.4505\n",
      "Epoch 15/100\n",
      "40000/40000 [==============================] - 13s 330us/sample - loss: 1.4243 - accuracy: 0.5016 - val_loss: 1.7034 - val_accuracy: 0.4612\n",
      "Epoch 16/100\n",
      "40000/40000 [==============================] - 13s 329us/sample - loss: 1.4010 - accuracy: 0.5138 - val_loss: 1.7690 - val_accuracy: 0.4542\n",
      "Epoch 17/100\n",
      "40000/40000 [==============================] - 13s 331us/sample - loss: 1.3830 - accuracy: 0.5163 - val_loss: 1.7593 - val_accuracy: 0.4538\n",
      "    >>>>>>>>>>>>>>>>>>>>>>>>>>>>>>>>>>>>>>>>>>>>>>>>>>\n",
      "    >>>>>>>>>>>>>>>>> For dropout_rate: 0.2\n",
      "    >>>>>>>>>>>>>>>>>>>>>>>>>>>>>>>>>>>>>>>>>>>>>>>>>>\n",
      "Train on 40000 samples, validate on 10000 samples\n",
      "Epoch 1/100\n",
      "40000/40000 [==============================] - 17s 431us/sample - loss: 2.0594 - accuracy: 0.2374 - val_loss: 2.0282 - val_accuracy: 0.2611\n",
      "Epoch 2/100\n",
      "40000/40000 [==============================] - 13s 328us/sample - loss: 1.8580 - accuracy: 0.3147 - val_loss: 2.2538 - val_accuracy: 0.3212\n",
      "Epoch 3/100\n",
      "40000/40000 [==============================] - 13s 335us/sample - loss: 1.7925 - accuracy: 0.3483 - val_loss: 2.0808 - val_accuracy: 0.3776\n",
      "Epoch 4/100\n",
      "40000/40000 [==============================] - 14s 340us/sample - loss: 1.8148 - accuracy: 0.3325 - val_loss: 1.8715 - val_accuracy: 0.3658\n",
      "Epoch 5/100\n",
      "40000/40000 [==============================] - 13s 322us/sample - loss: 1.7357 - accuracy: 0.3668 - val_loss: 1.8901 - val_accuracy: 0.3434\n",
      "Epoch 6/100\n",
      "40000/40000 [==============================] - 13s 320us/sample - loss: 1.6823 - accuracy: 0.3862 - val_loss: 1.9715 - val_accuracy: 0.3776\n",
      "Epoch 7/100\n",
      "40000/40000 [==============================] - 14s 338us/sample - loss: 1.6798 - accuracy: 0.3887 - val_loss: 1.8591 - val_accuracy: 0.3682\n",
      "Epoch 8/100\n",
      "40000/40000 [==============================] - 13s 322us/sample - loss: 1.6507 - accuracy: 0.3990 - val_loss: 1.9931 - val_accuracy: 0.3880\n",
      "Epoch 9/100\n",
      "40000/40000 [==============================] - 13s 321us/sample - loss: 1.6205 - accuracy: 0.4119 - val_loss: 2.1691 - val_accuracy: 0.3695\n",
      "Epoch 10/100\n",
      "40000/40000 [==============================] - 13s 320us/sample - loss: 1.6215 - accuracy: 0.4081 - val_loss: 1.9034 - val_accuracy: 0.4090\n",
      "Epoch 11/100\n",
      "40000/40000 [==============================] - 13s 321us/sample - loss: 1.5873 - accuracy: 0.4241 - val_loss: 2.0123 - val_accuracy: 0.4044\n",
      "Epoch 12/100\n",
      "40000/40000 [==============================] - 13s 333us/sample - loss: 1.5495 - accuracy: 0.4374 - val_loss: 1.9915 - val_accuracy: 0.3950\n",
      "Epoch 13/100\n",
      "40000/40000 [==============================] - 13s 329us/sample - loss: 3.1556 - accuracy: 0.4060 - val_loss: 2.2962 - val_accuracy: 0.3165\n",
      "Epoch 14/100\n",
      "40000/40000 [==============================] - 13s 322us/sample - loss: 1.7211 - accuracy: 0.3756 - val_loss: 2.0004 - val_accuracy: 0.3889\n",
      "Epoch 15/100\n",
      "40000/40000 [==============================] - 13s 320us/sample - loss: 1.5922 - accuracy: 0.4227 - val_loss: 2.0573 - val_accuracy: 0.4094\n",
      "Epoch 16/100\n",
      "40000/40000 [==============================] - 13s 321us/sample - loss: 1.5532 - accuracy: 0.4440 - val_loss: 2.0864 - val_accuracy: 0.4138\n",
      "Epoch 17/100\n",
      "40000/40000 [==============================] - 13s 317us/sample - loss: 1.5294 - accuracy: 0.4528 - val_loss: 2.1298 - val_accuracy: 0.4261\n",
      "    >>>>>>>>>>>>>>>>>>>>>>>>>>>>>>>>>>>>>>>>>>>>>>>>>>\n",
      "    >>>>>>>>>>>>>>>>> For dropout_rate: 0.30000000000000004\n",
      "    >>>>>>>>>>>>>>>>>>>>>>>>>>>>>>>>>>>>>>>>>>>>>>>>>>\n",
      "Train on 40000 samples, validate on 10000 samples\n",
      "Epoch 1/100\n",
      "40000/40000 [==============================] - 17s 425us/sample - loss: 2.1223 - accuracy: 0.2002 - val_loss: 2.2505 - val_accuracy: 0.2124\n",
      "Epoch 2/100\n",
      "40000/40000 [==============================] - 13s 330us/sample - loss: 1.9387 - accuracy: 0.2643 - val_loss: 2.2811 - val_accuracy: 0.2782\n",
      "Epoch 3/100\n",
      "40000/40000 [==============================] - 12s 309us/sample - loss: 1.8818 - accuracy: 0.2842 - val_loss: 2.3095 - val_accuracy: 0.2983\n",
      "Epoch 4/100\n",
      "40000/40000 [==============================] - 12s 310us/sample - loss: 1.8363 - accuracy: 0.3137 - val_loss: 2.0527 - val_accuracy: 0.3308\n",
      "Epoch 5/100\n",
      "40000/40000 [==============================] - 13s 315us/sample - loss: 1.7881 - accuracy: 0.3360 - val_loss: 2.1639 - val_accuracy: 0.3535\n",
      "Epoch 6/100\n",
      "40000/40000 [==============================] - 12s 311us/sample - loss: 1.7488 - accuracy: 0.3551 - val_loss: 2.3137 - val_accuracy: 0.3511\n",
      "Epoch 7/100\n",
      "40000/40000 [==============================] - 12s 307us/sample - loss: 1.7298 - accuracy: 0.3659 - val_loss: 2.1917 - val_accuracy: 0.3616\n",
      "Epoch 8/100\n",
      "40000/40000 [==============================] - 12s 305us/sample - loss: 1.7153 - accuracy: 0.3700 - val_loss: 2.2270 - val_accuracy: 0.3731\n",
      "Epoch 9/100\n",
      "40000/40000 [==============================] - 13s 313us/sample - loss: 1.6975 - accuracy: 0.3815 - val_loss: 2.4139 - val_accuracy: 0.3762\n",
      "Epoch 10/100\n",
      "40000/40000 [==============================] - 13s 319us/sample - loss: 1.6628 - accuracy: 0.3901 - val_loss: 2.2316 - val_accuracy: 0.3842\n",
      "Epoch 11/100\n",
      "40000/40000 [==============================] - 13s 322us/sample - loss: 1.6640 - accuracy: 0.3966 - val_loss: 2.2464 - val_accuracy: 0.3774\n",
      "Epoch 12/100\n",
      "40000/40000 [==============================] - 13s 315us/sample - loss: 2.0587 - accuracy: 0.3780 - val_loss: 2.1759 - val_accuracy: 0.3844\n",
      "Epoch 13/100\n",
      "40000/40000 [==============================] - 12s 312us/sample - loss: 1.6197 - accuracy: 0.4066 - val_loss: 2.2137 - val_accuracy: 0.3951\n",
      "Epoch 14/100\n",
      "40000/40000 [==============================] - 12s 311us/sample - loss: 1.6018 - accuracy: 0.4162 - val_loss: 2.3444 - val_accuracy: 0.4034\n",
      "    >>>>>>>>>>>>>>>>>>>>>>>>>>>>>>>>>>>>>>>>>>>>>>>>>>\n",
      "    >>>>>>>>>>>>>>>>> For dropout_rate: 0.4\n",
      "    >>>>>>>>>>>>>>>>>>>>>>>>>>>>>>>>>>>>>>>>>>>>>>>>>>\n",
      "Train on 40000 samples, validate on 10000 samples\n",
      "Epoch 1/100\n"
     ]
    },
    {
     "name": "stdout",
     "output_type": "stream",
     "text": [
      "40000/40000 [==============================] - 17s 428us/sample - loss: 2.1505 - accuracy: 0.1981 - val_loss: 2.4525 - val_accuracy: 0.2382\n",
      "Epoch 2/100\n",
      "40000/40000 [==============================] - 13s 315us/sample - loss: 1.9503 - accuracy: 0.2567 - val_loss: 2.7655 - val_accuracy: 0.2759\n",
      "Epoch 3/100\n",
      "40000/40000 [==============================] - 12s 311us/sample - loss: 1.8794 - accuracy: 0.2859 - val_loss: 2.5817 - val_accuracy: 0.3128\n",
      "Epoch 4/100\n",
      "40000/40000 [==============================] - 12s 310us/sample - loss: 1.8218 - accuracy: 0.3044 - val_loss: 2.5179 - val_accuracy: 0.3049\n",
      "Epoch 5/100\n",
      "40000/40000 [==============================] - 12s 308us/sample - loss: 1.8064 - accuracy: 0.3118 - val_loss: 2.2399 - val_accuracy: 0.3167\n",
      "Epoch 6/100\n",
      "40000/40000 [==============================] - 13s 314us/sample - loss: 1.7848 - accuracy: 0.3213 - val_loss: 2.6289 - val_accuracy: 0.3569\n",
      "Epoch 7/100\n",
      "40000/40000 [==============================] - 12s 311us/sample - loss: 1.7612 - accuracy: 0.3350 - val_loss: 2.4199 - val_accuracy: 0.3144\n",
      "Epoch 8/100\n",
      "40000/40000 [==============================] - 13s 322us/sample - loss: 1.7558 - accuracy: 0.3389 - val_loss: 3.0268 - val_accuracy: 0.3386\n",
      "Epoch 9/100\n",
      "40000/40000 [==============================] - 13s 321us/sample - loss: 1.7523 - accuracy: 0.3372 - val_loss: 2.6349 - val_accuracy: 0.3318\n",
      "Epoch 10/100\n",
      "40000/40000 [==============================] - 13s 319us/sample - loss: 1.8973 - accuracy: 0.3154 - val_loss: 2.4723 - val_accuracy: 0.3211\n",
      "Epoch 11/100\n",
      "40000/40000 [==============================] - 13s 324us/sample - loss: 1.7285 - accuracy: 0.3386 - val_loss: 2.7039 - val_accuracy: 0.3394\n",
      "Epoch 12/100\n",
      "40000/40000 [==============================] - 14s 338us/sample - loss: 1.7599 - accuracy: 0.3462 - val_loss: 2.2650 - val_accuracy: 0.3446\n",
      "Epoch 13/100\n",
      "40000/40000 [==============================] - 13s 336us/sample - loss: 1.6802 - accuracy: 0.3666 - val_loss: 2.5833 - val_accuracy: 0.3560\n",
      "Epoch 14/100\n",
      "40000/40000 [==============================] - 13s 322us/sample - loss: 1.6863 - accuracy: 0.3673 - val_loss: 2.8134 - val_accuracy: 0.3639\n",
      "Epoch 15/100\n",
      "40000/40000 [==============================] - 13s 318us/sample - loss: 1.6794 - accuracy: 0.3767 - val_loss: 2.5351 - val_accuracy: 0.3515\n"
     ]
    }
   ],
   "source": [
    "models = []\n",
    "for i in range(4):\n",
    "    \n",
    "    dropout_rate = 0.1 * (i + 1)  # Try different dropout rates for your model.\n",
    "                                  # For a self-normalizing model:\n",
    "                                  #  - use only Dense layers\n",
    "                                  #  - standardize the input features\n",
    "                                  #  - use LeCun initialization + SELU activation\n",
    "    \n",
    "    model = create_model(with_bn=False, \n",
    "                         initialization='lecun_normal', \n",
    "                         hidden_activation='selu',\n",
    "                         dropout_rate=dropout_rate)\n",
    "    # model.summary()\n",
    "    \n",
    "    model.compile(loss='sparse_categorical_crossentropy',\n",
    "                  optimizer='nadam',\n",
    "                  metrics=['accuracy'])\n",
    "\n",
    "    early_stopping_cb = EarlyStopping(patience=10,\n",
    "                                      restore_best_weights=True)\n",
    "    \n",
    "    print(f'    >>>>>>>>>>>>>>>>>>>>>>>>>>>>>>>>>>>>>>>>>>>>>>>>>>')\n",
    "    print(f'    >>>>>>>>>>>>>>>>> For dropout_rate: {dropout_rate}')\n",
    "    print(f'    >>>>>>>>>>>>>>>>>>>>>>>>>>>>>>>>>>>>>>>>>>>>>>>>>>')\n",
    "    history = model.fit(X_train, y_train, epochs=100,\n",
    "                        validation_data=(X_val, y_val),\n",
    "                        callbacks=[early_stopping_cb])\n",
    "    \n",
    "    models.append(model)"
   ]
  },
  {
   "cell_type": "code",
   "execution_count": 123,
   "metadata": {},
   "outputs": [
    {
     "name": "stdout",
     "output_type": "stream",
     "text": [
      "accuracy for model 1: 0.4238\n",
      "accuracy for model 2: 0.3692\n",
      "accuracy for model 3: 0.329\n",
      "accuracy for model 4: 0.3258\n"
     ]
    }
   ],
   "source": [
    "for i in range(4):\n",
    "    model = models[i]\n",
    "    y_pred = model.predict(X_test)\n",
    "    y_pred_classes = np.argmax(y_pred, axis=1)\n",
    "    print(f'accuracy for model {i+1}: {accuracy_score(y_test, y_pred_classes)}')"
   ]
  },
  {
   "cell_type": "markdown",
   "metadata": {},
   "source": [
    "### Without dropout, with LeCun initialization, and SELU activation, we get accuracy of 0.48. \n",
    "### With dropout, the best model gives us accuracy of 0.42\n",
    "### Now let's try retraining the same model with MC Dropout to see if we get better results"
   ]
  },
  {
   "cell_type": "code",
   "execution_count": 124,
   "metadata": {},
   "outputs": [],
   "source": [
    "model = models[0]\n",
    "\n",
    "y_probas = np.stack([model(X_test, training=True) for _ in range(100)])\n",
    "y_proba = np.mean(y_probas, axis=0)"
   ]
  },
  {
   "cell_type": "code",
   "execution_count": 125,
   "metadata": {},
   "outputs": [
    {
     "name": "stdout",
     "output_type": "stream",
     "text": [
      "accuracy for model with dropout: 0.4209\n"
     ]
    }
   ],
   "source": [
    "y_pred = np.argmax(y_proba, axis=1)\n",
    "print(f'accuracy for model with dropout: {accuracy_score(y_test, y_pred)}')"
   ]
  },
  {
   "cell_type": "markdown",
   "metadata": {},
   "source": [
    "### MC Dropout does not give us any better results, but the model is regularized, so it will be better on different test sets\n",
    "\n",
    "### Now let's try it using MCDropout with Batch Normalization"
   ]
  },
  {
   "cell_type": "code",
   "execution_count": 126,
   "metadata": {
    "scrolled": true
   },
   "outputs": [
    {
     "data": {
      "text/plain": [
       "[<tensorflow.python.keras.layers.core.Dense at 0x13cc0d8d0>,\n",
       " <tensorflow.python.keras.layers.core.Activation at 0x13cc0d810>,\n",
       " <tensorflow.python.keras.layers.core.Dense at 0x14ee3cd90>,\n",
       " <tensorflow.python.keras.layers.core.Activation at 0x14ee55350>,\n",
       " <tensorflow.python.keras.layers.core.Dense at 0x14ee3c810>,\n",
       " <tensorflow.python.keras.layers.core.Activation at 0x14ee55550>,\n",
       " <tensorflow.python.keras.layers.core.Dense at 0x14f3255d0>,\n",
       " <tensorflow.python.keras.layers.core.Activation at 0x14f325750>,\n",
       " <tensorflow.python.keras.layers.core.Dense at 0x14f2ffe90>,\n",
       " <tensorflow.python.keras.layers.core.Activation at 0x14f3044d0>,\n",
       " <tensorflow.python.keras.layers.core.Dense at 0x146246250>,\n",
       " <tensorflow.python.keras.layers.core.Activation at 0x146229f50>,\n",
       " <tensorflow.python.keras.layers.core.Dense at 0x1462291d0>,\n",
       " <tensorflow.python.keras.layers.core.Activation at 0x146229a50>,\n",
       " <tensorflow.python.keras.layers.core.Dense at 0x146222b50>,\n",
       " <tensorflow.python.keras.layers.core.Activation at 0x146222ed0>,\n",
       " <tensorflow.python.keras.layers.core.Dense at 0x13d1aef10>,\n",
       " <tensorflow.python.keras.layers.core.Activation at 0x13d18e950>,\n",
       " <tensorflow.python.keras.layers.core.Dense at 0x13d18ec90>,\n",
       " <tensorflow.python.keras.layers.core.Activation at 0x145a8c3d0>,\n",
       " <tensorflow.python.keras.layers.core.Dense at 0x145a8c550>,\n",
       " <tensorflow.python.keras.layers.core.Activation at 0x145a80b90>,\n",
       " <tensorflow.python.keras.layers.core.Dense at 0x13caa7350>,\n",
       " <tensorflow.python.keras.layers.core.Activation at 0x13caa7410>,\n",
       " <tensorflow.python.keras.layers.core.Dense at 0x13caa6c10>,\n",
       " <tensorflow.python.keras.layers.core.Activation at 0x14f0a1d90>,\n",
       " <tensorflow.python.keras.layers.core.Dense at 0x13ca843d0>,\n",
       " <tensorflow.python.keras.layers.core.Activation at 0x14f0a7d90>,\n",
       " <tensorflow.python.keras.layers.core.Dense at 0x14f081c10>,\n",
       " <tensorflow.python.keras.layers.core.Activation at 0x14f0a7a90>,\n",
       " <tensorflow.python.keras.layers.core.Dense at 0x14f0a7ad0>,\n",
       " <tensorflow.python.keras.layers.core.Activation at 0x13d45b4d0>,\n",
       " <tensorflow.python.keras.layers.core.Dense at 0x13d49e990>,\n",
       " <tensorflow.python.keras.layers.core.Activation at 0x13d47d190>,\n",
       " <tensorflow.python.keras.layers.core.Dense at 0x14f0a1950>,\n",
       " <tensorflow.python.keras.layers.core.Activation at 0x13d42df50>,\n",
       " <tensorflow.python.keras.layers.noise.AlphaDropout at 0x13ca84d50>,\n",
       " <tensorflow.python.keras.layers.core.Dense at 0x145e5ecd0>,\n",
       " <tensorflow.python.keras.layers.core.Activation at 0x145e8aed0>,\n",
       " <tensorflow.python.keras.layers.noise.AlphaDropout at 0x145e7d910>,\n",
       " <tensorflow.python.keras.layers.core.Dense at 0x13cdd7e90>,\n",
       " <tensorflow.python.keras.layers.core.Activation at 0x13cdd7090>,\n",
       " <tensorflow.python.keras.layers.noise.AlphaDropout at 0x145e5ea90>,\n",
       " <tensorflow.python.keras.layers.core.Dense at 0x16a0ca550>]"
      ]
     },
     "execution_count": 126,
     "metadata": {},
     "output_type": "execute_result"
    }
   ],
   "source": [
    "model.layers"
   ]
  },
  {
   "cell_type": "code",
   "execution_count": 189,
   "metadata": {},
   "outputs": [],
   "source": [
    "model_mc_dropout = tf.keras.models.clone_model(model) # Everything in the model except the weights are cloned.\n",
    "model_mc_dropout.set_weights(model.get_weights())     # Cloning does not clone weights, so set them instead"
   ]
  },
  {
   "cell_type": "code",
   "execution_count": 190,
   "metadata": {
    "scrolled": true
   },
   "outputs": [
    {
     "data": {
      "text/plain": [
       "[array([[-0.01139602,  0.00754124, -0.13820025, ...,  0.04770136,\n",
       "         -0.05793469, -0.00654243],\n",
       "        [-0.01611584,  0.01971314, -0.13340402, ..., -0.01504751,\n",
       "         -0.11105145, -0.01809836],\n",
       "        [-0.02463305, -0.10309125, -0.07891604, ...,  0.0674312 ,\n",
       "         -0.09133004, -0.03442317],\n",
       "        ...,\n",
       "        [-0.13616231,  0.13149257,  0.14802764, ..., -0.08039837,\n",
       "          0.0171286 ,  0.0174218 ],\n",
       "        [-0.11005429,  0.10675663,  0.07581476, ..., -0.06333005,\n",
       "         -0.03798052, -0.03497659],\n",
       "        [ 0.05426489,  0.11429682, -0.04324795, ...,  0.07633459,\n",
       "         -0.03089878,  0.13195276]], dtype=float32),\n",
       " array([-0.4149874 , -0.20836446, -0.01339994, -0.0818699 ,  0.12745625,\n",
       "         0.11542892, -0.22220957,  0.12931274, -0.16048275, -0.05801518,\n",
       "        -0.14564976, -0.09795307, -0.08613658, -0.25908798, -0.33447212,\n",
       "        -0.16124682, -0.23373884, -0.11296007, -0.22040613, -0.1159159 ,\n",
       "         0.06676819, -0.17070751, -0.41194272, -0.29696104, -0.15941519,\n",
       "        -0.18010609, -0.27271652,  0.19807404, -0.47892204, -0.02702333,\n",
       "        -0.06537069,  0.0363738 ,  0.01974452, -0.13093129,  0.15372556,\n",
       "         0.02882742, -0.27979022,  0.02163644, -0.0687517 , -0.36981773,\n",
       "        -0.10037412,  0.00070615, -0.08618584, -0.07601263, -0.13194357,\n",
       "        -0.12627776,  0.07813068, -0.05456743, -0.3217733 , -0.13336381,\n",
       "        -0.09076381, -0.15456593, -0.15192166, -0.32395315,  0.12025836,\n",
       "        -0.21573943,  0.01392077, -0.11597684, -0.03129769,  0.17244594,\n",
       "         0.0289551 , -0.10458758, -0.10878245,  0.10869852, -0.10528358,\n",
       "         0.00753974,  0.05344367, -0.01438812,  0.215485  , -0.21169254,\n",
       "         0.07643053,  0.02830779, -0.09363697, -0.21867128, -0.03027673,\n",
       "        -0.18592046, -0.24917035, -0.20164366, -0.28367296,  0.07628817,\n",
       "        -0.25023526, -0.08899255, -0.21823691, -0.21262442, -0.04476871,\n",
       "         0.15175714, -0.13876596, -0.2809653 , -0.28525913, -0.14340787,\n",
       "        -0.18897043,  0.01718018, -0.13725406, -0.21812108, -0.10154667,\n",
       "        -0.22699025, -0.06096338, -0.01512127, -0.15085031, -0.31872976],\n",
       "       dtype=float32)]"
      ]
     },
     "execution_count": 190,
     "metadata": {},
     "output_type": "execute_result"
    }
   ],
   "source": [
    "model_mc_dropout.layers[0].get_weights()"
   ]
  },
  {
   "cell_type": "code",
   "execution_count": 191,
   "metadata": {},
   "outputs": [
    {
     "name": "stdout",
     "output_type": "stream",
     "text": [
      "Number of layers in model: 44\n",
      "Number of layers in model: 34\n"
     ]
    }
   ],
   "source": [
    "# We remove the last 10 model layers including the output layer.\n",
    "# The output layer is a single layer.\n",
    "# The layers before that are combined of both Dense and Activation.\n",
    "# So we remove the single output layer, and 3 (Dense + Activation)\n",
    "# layers. We found this out by looking at the model.layers\n",
    "print(f'Number of layers in model: {len(model_mc_dropout.layers)}')\n",
    "for _ in range(10):\n",
    "    model_mc_dropout.pop()\n",
    "print(f'Number of layers in model: {len(model_mc_dropout.layers)}')"
   ]
  },
  {
   "cell_type": "code",
   "execution_count": 192,
   "metadata": {},
   "outputs": [],
   "source": [
    "# Add (3 Dense layers + MC Dropout) layers\n",
    "for i in range(3):\n",
    "    model_mc_dropout.add(Dense(100, \n",
    "                               kernel_initializer='lecun_normal',\n",
    "                               activation='selu'))\n",
    "    model_mc_dropout.add(MCDropout(0.1))"
   ]
  },
  {
   "cell_type": "code",
   "execution_count": 193,
   "metadata": {},
   "outputs": [],
   "source": [
    "# Add output layer\n",
    "model_mc_dropout.add(Dense(10, activation='softmax'))"
   ]
  },
  {
   "cell_type": "code",
   "execution_count": 194,
   "metadata": {
    "scrolled": true
   },
   "outputs": [
    {
     "name": "stdout",
     "output_type": "stream",
     "text": [
      "Model: \"sequential_11\"\n",
      "_________________________________________________________________\n",
      "Layer (type)                 Output Shape              Param #   \n",
      "=================================================================\n",
      "dense_228 (Dense)            (None, 100)               307300    \n",
      "_________________________________________________________________\n",
      "activation_218 (Activation)  (None, 100)               0         \n",
      "_________________________________________________________________\n",
      "dense_229 (Dense)            (None, 100)               10100     \n",
      "_________________________________________________________________\n",
      "activation_219 (Activation)  (None, 100)               0         \n",
      "_________________________________________________________________\n",
      "dense_230 (Dense)            (None, 100)               10100     \n",
      "_________________________________________________________________\n",
      "activation_220 (Activation)  (None, 100)               0         \n",
      "_________________________________________________________________\n",
      "dense_231 (Dense)            (None, 100)               10100     \n",
      "_________________________________________________________________\n",
      "activation_221 (Activation)  (None, 100)               0         \n",
      "_________________________________________________________________\n",
      "dense_232 (Dense)            (None, 100)               10100     \n",
      "_________________________________________________________________\n",
      "activation_222 (Activation)  (None, 100)               0         \n",
      "_________________________________________________________________\n",
      "dense_233 (Dense)            (None, 100)               10100     \n",
      "_________________________________________________________________\n",
      "activation_223 (Activation)  (None, 100)               0         \n",
      "_________________________________________________________________\n",
      "dense_234 (Dense)            (None, 100)               10100     \n",
      "_________________________________________________________________\n",
      "activation_224 (Activation)  (None, 100)               0         \n",
      "_________________________________________________________________\n",
      "dense_235 (Dense)            (None, 100)               10100     \n",
      "_________________________________________________________________\n",
      "activation_225 (Activation)  (None, 100)               0         \n",
      "_________________________________________________________________\n",
      "dense_236 (Dense)            (None, 100)               10100     \n",
      "_________________________________________________________________\n",
      "activation_226 (Activation)  (None, 100)               0         \n",
      "_________________________________________________________________\n",
      "dense_237 (Dense)            (None, 100)               10100     \n",
      "_________________________________________________________________\n",
      "activation_227 (Activation)  (None, 100)               0         \n",
      "_________________________________________________________________\n",
      "dense_238 (Dense)            (None, 100)               10100     \n",
      "_________________________________________________________________\n",
      "activation_228 (Activation)  (None, 100)               0         \n",
      "_________________________________________________________________\n",
      "dense_239 (Dense)            (None, 100)               10100     \n",
      "_________________________________________________________________\n",
      "activation_229 (Activation)  (None, 100)               0         \n",
      "_________________________________________________________________\n",
      "dense_240 (Dense)            (None, 100)               10100     \n",
      "_________________________________________________________________\n",
      "activation_230 (Activation)  (None, 100)               0         \n",
      "_________________________________________________________________\n",
      "dense_241 (Dense)            (None, 100)               10100     \n",
      "_________________________________________________________________\n",
      "activation_231 (Activation)  (None, 100)               0         \n",
      "_________________________________________________________________\n",
      "dense_242 (Dense)            (None, 100)               10100     \n",
      "_________________________________________________________________\n",
      "activation_232 (Activation)  (None, 100)               0         \n",
      "_________________________________________________________________\n",
      "dense_243 (Dense)            (None, 100)               10100     \n",
      "_________________________________________________________________\n",
      "activation_233 (Activation)  (None, 100)               0         \n",
      "_________________________________________________________________\n",
      "dense_244 (Dense)            (None, 100)               10100     \n",
      "_________________________________________________________________\n",
      "activation_234 (Activation)  (None, 100)               0         \n",
      "_________________________________________________________________\n",
      "dense_343 (Dense)            (None, 100)               10100     \n",
      "_________________________________________________________________\n",
      "mc_dropout_4 (MCDropout)     (None, 100)               0         \n",
      "_________________________________________________________________\n",
      "dense_344 (Dense)            (None, 100)               10100     \n",
      "_________________________________________________________________\n",
      "mc_dropout_5 (MCDropout)     (None, 100)               0         \n",
      "_________________________________________________________________\n",
      "dense_345 (Dense)            (None, 100)               10100     \n",
      "_________________________________________________________________\n",
      "mc_dropout_6 (MCDropout)     (None, 100)               0         \n",
      "_________________________________________________________________\n",
      "dense_346 (Dense)            (None, 10)                1010      \n",
      "=================================================================\n",
      "Total params: 500,210\n",
      "Trainable params: 500,210\n",
      "Non-trainable params: 0\n",
      "_________________________________________________________________\n"
     ]
    }
   ],
   "source": [
    "model_mc_dropout.summary()"
   ]
  },
  {
   "cell_type": "code",
   "execution_count": 197,
   "metadata": {
    "scrolled": true
   },
   "outputs": [
    {
     "name": "stdout",
     "output_type": "stream",
     "text": [
      "Train on 40000 samples, validate on 10000 samples\n",
      "Epoch 1/100\n",
      "40000/40000 [==============================] - 18s 439us/sample - loss: 1.6687 - accuracy: 0.4299 - val_loss: 1.6654 - val_accuracy: 0.4189\n",
      "Epoch 2/100\n",
      "40000/40000 [==============================] - 13s 336us/sample - loss: 1.5231 - accuracy: 0.4633 - val_loss: 1.6176 - val_accuracy: 0.4261\n",
      "Epoch 3/100\n",
      "40000/40000 [==============================] - 14s 339us/sample - loss: 1.4742 - accuracy: 0.4845 - val_loss: 1.6120 - val_accuracy: 0.4353\n",
      "Epoch 4/100\n",
      "40000/40000 [==============================] - 14s 340us/sample - loss: 1.4295 - accuracy: 0.4994 - val_loss: 1.5756 - val_accuracy: 0.4481\n",
      "Epoch 5/100\n",
      "40000/40000 [==============================] - 14s 340us/sample - loss: 1.4083 - accuracy: 0.5119 - val_loss: 1.7540 - val_accuracy: 0.4181\n",
      "Epoch 6/100\n",
      "40000/40000 [==============================] - 14s 342us/sample - loss: 1.4238 - accuracy: 0.4983 - val_loss: 1.5740 - val_accuracy: 0.4624\n",
      "Epoch 7/100\n",
      "40000/40000 [==============================] - 14s 339us/sample - loss: 1.3556 - accuracy: 0.5257 - val_loss: 1.5412 - val_accuracy: 0.4716\n",
      "Epoch 8/100\n",
      "40000/40000 [==============================] - 14s 338us/sample - loss: 1.3176 - accuracy: 0.5415 - val_loss: 1.5508 - val_accuracy: 0.4675\n",
      "Epoch 9/100\n",
      "40000/40000 [==============================] - 14s 345us/sample - loss: 1.2950 - accuracy: 0.5495 - val_loss: 1.5174 - val_accuracy: 0.4850\n",
      "Epoch 10/100\n",
      "40000/40000 [==============================] - 13s 337us/sample - loss: 1.2853 - accuracy: 0.5563 - val_loss: 1.5708 - val_accuracy: 0.4708\n",
      "Epoch 11/100\n",
      "40000/40000 [==============================] - 13s 336us/sample - loss: 1.2740 - accuracy: 0.5641 - val_loss: 1.5618 - val_accuracy: 0.4784\n",
      "Epoch 12/100\n",
      "40000/40000 [==============================] - 13s 337us/sample - loss: 1.2856 - accuracy: 0.5559 - val_loss: 1.5679 - val_accuracy: 0.4652\n",
      "Epoch 13/100\n",
      "40000/40000 [==============================] - 14s 339us/sample - loss: 1.3036 - accuracy: 0.5577 - val_loss: 1.6730 - val_accuracy: 0.4316\n",
      "Epoch 14/100\n",
      "40000/40000 [==============================] - 14s 339us/sample - loss: 1.2998 - accuracy: 0.5480 - val_loss: 1.5219 - val_accuracy: 0.4848\n",
      "Epoch 15/100\n",
      "40000/40000 [==============================] - 14s 342us/sample - loss: 1.2368 - accuracy: 0.5742 - val_loss: 1.5841 - val_accuracy: 0.4709\n",
      "Epoch 16/100\n",
      "40000/40000 [==============================] - 14s 343us/sample - loss: 1.1912 - accuracy: 0.5914 - val_loss: 1.5827 - val_accuracy: 0.4795\n",
      "Epoch 17/100\n",
      "40000/40000 [==============================] - 14s 340us/sample - loss: 1.1898 - accuracy: 0.5946 - val_loss: 1.5641 - val_accuracy: 0.4827\n",
      "Epoch 18/100\n",
      "40000/40000 [==============================] - 14s 339us/sample - loss: 1.8666 - accuracy: 0.5683 - val_loss: 1.5709 - val_accuracy: 0.4754\n",
      "Epoch 19/100\n",
      "40000/40000 [==============================] - 14s 340us/sample - loss: 1.1994 - accuracy: 0.5869 - val_loss: 1.6111 - val_accuracy: 0.4823\n"
     ]
    }
   ],
   "source": [
    "model = model_mc_dropout\n",
    "model.compile(loss='sparse_categorical_crossentropy',\n",
    "              optimizer='nadam',\n",
    "              metrics=['accuracy'])\n",
    "\n",
    "history = model.fit(X_train, y_train, epochs=100,\n",
    "                    validation_data=(X_val, y_val),\n",
    "                    callbacks=[early_stopping_cb])"
   ]
  },
  {
   "cell_type": "code",
   "execution_count": 198,
   "metadata": {},
   "outputs": [],
   "source": [
    "y_probas = np.stack([model(X_test, training=True) for _ in range(100)])\n",
    "y_proba = np.mean(y_probas, axis=0)"
   ]
  },
  {
   "cell_type": "code",
   "execution_count": 199,
   "metadata": {},
   "outputs": [
    {
     "name": "stdout",
     "output_type": "stream",
     "text": [
      "accuracy for model with dropout: 0.4929\n"
     ]
    }
   ],
   "source": [
    "y_pred = np.argmax(y_proba, axis=1)\n",
    "print(f'accuracy for model with dropout: {accuracy_score(y_test, y_pred)}')"
   ]
  },
  {
   "cell_type": "markdown",
   "metadata": {},
   "source": [
    "### With MC dropout, accuracy improved from 0.42 to 0.49, an increase of 0.07.\n",
    "### This means error decreased from 0.58 to 0.51, a decrease of 7% - not bad for a small change in the model"
   ]
  },
  {
   "cell_type": "code",
   "execution_count": 364,
   "metadata": {},
   "outputs": [],
   "source": [
    "class ExponentialLearningRate(keras.callbacks.Callback):\n",
    "    def __init__(self, factor):\n",
    "        self.factor = factor\n",
    "        self.rates = []\n",
    "        self.losses = []\n",
    "    def on_batch_end(self, batch, logs):\n",
    "        self.rates.append(K.get_value(self.model.optimizer.lr))\n",
    "        self.losses.append(logs[\"loss\"])\n",
    "        K.set_value(self.model.optimizer.lr, self.model.optimizer.lr * self.factor)\n",
    "\n",
    "def find_learning_rate(model, X, y, epochs=1, batch_size=32, min_rate=10**-5, max_rate=10):\n",
    "\n",
    "    init_weights = model.get_weights()\n",
    "    iterations = len(X) // batch_size * epochs\n",
    "    \n",
    "    factor = np.exp(np.log(max_rate / min_rate) / iterations)\n",
    "    init_lr = K.get_value(model.optimizer.lr)\n",
    "    K.set_value(model.optimizer.lr, min_rate)\n",
    "    exp_lr = ExponentialLearningRate(factor)\n",
    "    \n",
    "    history = model.fit(X, y, epochs=epochs, batch_size=batch_size,\n",
    "                        callbacks=[exp_lr])\n",
    "    \n",
    "    K.set_value(model.optimizer.lr, init_lr)\n",
    "    model.set_weights(init_weights)\n",
    "    \n",
    "    return exp_lr.rates, exp_lr.losses\n",
    "\n",
    "def plot_lr_vs_loss(rates, losses):\n",
    "    plt.plot(rates, losses)\n",
    "    plt.gca().set_xscale('log')\n",
    "    plt.hlines(min(losses), min(rates), max(rates))\n",
    "    plt.axis([min(rates), max(rates), min(losses), (losses[0] + min(losses)) / 2])\n",
    "    plt.xlabel(\"Learning rate\")\n",
    "    plt.ylabel(\"Training Loss\")\n",
    "    \n",
    "# These two classes can be used when your optimizer uses momentum.\n",
    "# In this case, when your learning rate is going down,\n",
    "# momentum should be going up, and vice versa.\n",
    "#\n",
    "class LinearMomentum(keras.callbacks.Callback):\n",
    "    def __init__(self, factor):\n",
    "        self.factor = factor\n",
    "    def on_batch_end(self, batch, logs):\n",
    "        K.set_value(self.model.optimizer.momentum, \n",
    "                    K.get_value(self.model.optimizer.momentum) + self.factor)\n",
    "\n",
    "# Here we're starting with a high learning rate and decreasing it,\n",
    "# so start with a low momentum and increase it\n",
    "def find_learning_rate_with_momentum(model, X, y, epochs=1, batch_size=32, \n",
    "                                     min_rate=10**-5, max_rate=10,\n",
    "                                     start_mom=0.85, end_mom=0.95):\n",
    "\n",
    "    init_weights = model.get_weights()\n",
    "    iterations = len(X) // batch_size * epochs\n",
    "    \n",
    "    factor = np.exp(np.log(max_rate / min_rate) / iterations)\n",
    "    factor_mom = (start_mom - end_mom) / iterations\n",
    "    \n",
    "    init_lr = K.get_value(model.optimizer.lr)\n",
    "    init_mom = K.get_value(model.optimizer.momentum)\n",
    "    \n",
    "    K.set_value(model.optimizer.lr, min_rate)\n",
    "    K.set_value(model.optimizer.momentum, start_mom)\n",
    "    \n",
    "    exp_lr = ExponentialLearningRate(factor)\n",
    "    lin_mom = LinearMomentum(factor_mom)\n",
    "    \n",
    "    history = model.fit(X, y, epochs=epochs, batch_size=batch_size,\n",
    "                        callbacks=[exp_lr, lin_mom])\n",
    "    \n",
    "    K.set_value(model.optimizer.lr, init_lr)\n",
    "    K.set_value(model.optimizer.momentum, init_mom)\n",
    "\n",
    "    model.set_weights(init_weights)\n",
    "    \n",
    "    return exp_lr.rates, exp_lr.losses"
   ]
  },
  {
   "cell_type": "code",
   "execution_count": 365,
   "metadata": {
    "scrolled": true
   },
   "outputs": [
    {
     "name": "stdout",
     "output_type": "stream",
     "text": [
      "Model: \"sequential_42\"\n",
      "_________________________________________________________________\n",
      "Layer (type)                 Output Shape              Param #   \n",
      "=================================================================\n",
      "dense_872 (Dense)            (None, 100)               307300    \n",
      "_________________________________________________________________\n",
      "activation_818 (Activation)  (None, 100)               0         \n",
      "_________________________________________________________________\n",
      "dense_873 (Dense)            (None, 100)               10100     \n",
      "_________________________________________________________________\n",
      "activation_819 (Activation)  (None, 100)               0         \n",
      "_________________________________________________________________\n",
      "dense_874 (Dense)            (None, 100)               10100     \n",
      "_________________________________________________________________\n",
      "activation_820 (Activation)  (None, 100)               0         \n",
      "_________________________________________________________________\n",
      "dense_875 (Dense)            (None, 100)               10100     \n",
      "_________________________________________________________________\n",
      "activation_821 (Activation)  (None, 100)               0         \n",
      "_________________________________________________________________\n",
      "dense_876 (Dense)            (None, 100)               10100     \n",
      "_________________________________________________________________\n",
      "activation_822 (Activation)  (None, 100)               0         \n",
      "_________________________________________________________________\n",
      "dense_877 (Dense)            (None, 100)               10100     \n",
      "_________________________________________________________________\n",
      "activation_823 (Activation)  (None, 100)               0         \n",
      "_________________________________________________________________\n",
      "dense_878 (Dense)            (None, 100)               10100     \n",
      "_________________________________________________________________\n",
      "activation_824 (Activation)  (None, 100)               0         \n",
      "_________________________________________________________________\n",
      "dense_879 (Dense)            (None, 100)               10100     \n",
      "_________________________________________________________________\n",
      "activation_825 (Activation)  (None, 100)               0         \n",
      "_________________________________________________________________\n",
      "dense_880 (Dense)            (None, 100)               10100     \n",
      "_________________________________________________________________\n",
      "activation_826 (Activation)  (None, 100)               0         \n",
      "_________________________________________________________________\n",
      "dense_881 (Dense)            (None, 100)               10100     \n",
      "_________________________________________________________________\n",
      "activation_827 (Activation)  (None, 100)               0         \n",
      "_________________________________________________________________\n",
      "dense_882 (Dense)            (None, 100)               10100     \n",
      "_________________________________________________________________\n",
      "activation_828 (Activation)  (None, 100)               0         \n",
      "_________________________________________________________________\n",
      "dense_883 (Dense)            (None, 100)               10100     \n",
      "_________________________________________________________________\n",
      "activation_829 (Activation)  (None, 100)               0         \n",
      "_________________________________________________________________\n",
      "dense_884 (Dense)            (None, 100)               10100     \n",
      "_________________________________________________________________\n",
      "activation_830 (Activation)  (None, 100)               0         \n",
      "_________________________________________________________________\n",
      "dense_885 (Dense)            (None, 100)               10100     \n",
      "_________________________________________________________________\n",
      "activation_831 (Activation)  (None, 100)               0         \n",
      "_________________________________________________________________\n",
      "dense_886 (Dense)            (None, 100)               10100     \n",
      "_________________________________________________________________\n",
      "activation_832 (Activation)  (None, 100)               0         \n",
      "_________________________________________________________________\n",
      "dense_887 (Dense)            (None, 100)               10100     \n",
      "_________________________________________________________________\n",
      "activation_833 (Activation)  (None, 100)               0         \n",
      "_________________________________________________________________\n",
      "dense_888 (Dense)            (None, 100)               10100     \n",
      "_________________________________________________________________\n",
      "activation_834 (Activation)  (None, 100)               0         \n",
      "_________________________________________________________________\n",
      "dense_889 (Dense)            (None, 100)               10100     \n",
      "_________________________________________________________________\n",
      "activation_835 (Activation)  (None, 100)               0         \n",
      "_________________________________________________________________\n",
      "dense_890 (Dense)            (None, 100)               10100     \n",
      "_________________________________________________________________\n",
      "activation_836 (Activation)  (None, 100)               0         \n",
      "_________________________________________________________________\n",
      "dense_891 (Dense)            (None, 100)               10100     \n",
      "_________________________________________________________________\n",
      "activation_837 (Activation)  (None, 100)               0         \n",
      "_________________________________________________________________\n",
      "dense_892 (Dense)            (None, 10)                1010      \n",
      "=================================================================\n",
      "Total params: 500,210\n",
      "Trainable params: 500,210\n",
      "Non-trainable params: 0\n",
      "_________________________________________________________________\n"
     ]
    }
   ],
   "source": [
    "model = create_model(with_bn=False, \n",
    "                     initialization='lecun_normal', \n",
    "                     hidden_activation='selu')\n",
    "model.summary()"
   ]
  },
  {
   "cell_type": "code",
   "execution_count": 332,
   "metadata": {},
   "outputs": [],
   "source": [
    "model.compile(loss='sparse_categorical_crossentropy',\n",
    "              optimizer=SGD(),\n",
    "              metrics=['accuracy'])"
   ]
  },
  {
   "cell_type": "code",
   "execution_count": 333,
   "metadata": {},
   "outputs": [
    {
     "name": "stdout",
     "output_type": "stream",
     "text": [
      "Train on 40000 samples\n",
      "40000/40000 [==============================] - 9s 229us/sample - loss: nan - accuracy: 0.1650\n"
     ]
    },
    {
     "data": {
      "image/png": "[encoded data removed]",
      "text/plain": [
       "<Figure size 432x288 with 1 Axes>"
      ]
     },
     "metadata": {
      "needs_background": "light"
     },
     "output_type": "display_data"
    }
   ],
   "source": [
    "batch_size = 32\n",
    "rates, losses = find_learning_rate(model, X_train, y_train, epochs=1, batch_size=batch_size)\n",
    "plot_lr_vs_loss(rates, losses)"
   ]
  },
  {
   "cell_type": "markdown",
   "metadata": {},
   "source": [
    "### Lowest LR from the plot to is around 3e-3. So select starting LR to be 5e-3"
   ]
  },
  {
   "cell_type": "code",
   "execution_count": 366,
   "metadata": {},
   "outputs": [],
   "source": [
    "# This shows how you can ramp up on the LR rate and ramp down on it at the halfway point.\n",
    "#\n",
    "class OneCycleScheduler(keras.callbacks.Callback):\n",
    "    def __init__(self, iterations, max_rate, start_rate=None,\n",
    "                 last_iterations=None, last_rate=None):\n",
    "        self.iterations = iterations\n",
    "        self.max_rate = max_rate\n",
    "        self.start_rate = start_rate or max_rate / 10\n",
    "        self.last_iterations = last_iterations or iterations // 10 + 1\n",
    "        self.half_iteration = (iterations - self.last_iterations) // 2\n",
    "        self.last_rate = last_rate or self.start_rate / 1000\n",
    "        self.iteration = 0\n",
    "        self.rates = []\n",
    "    def _interpolate(self, iter1, iter2, rate1, rate2):\n",
    "        return ((rate2 - rate1) * (iter2 - self.iteration)\n",
    "                / (iter2 - iter1) + rate1)\n",
    "    def on_batch_begin(self, batch, logs):\n",
    "        if self.iteration < self.half_iteration:\n",
    "            rate = self._interpolate(0, self.half_iteration, self.start_rate, self.max_rate)\n",
    "        elif self.iteration < 2 * self.half_iteration:\n",
    "            rate = self._interpolate(self.half_iteration, 2 * self.half_iteration,\n",
    "                                     self.max_rate, self.start_rate)\n",
    "        else:\n",
    "            rate = self._interpolate(2 * self.half_iteration, self.iterations,\n",
    "                                     self.start_rate, self.last_rate)\n",
    "            rate = max(rate, self.last_rate)\n",
    "        self.iteration += 1\n",
    "        self.rates.append(rate)\n",
    "        K.set_value(self.model.optimizer.lr, rate)\n",
    "        \n",
    "class OneCycleSchedulerWithMomentum(keras.callbacks.Callback):\n",
    "    def __init__(self, iterations, max_rate, start_rate=None,\n",
    "                 last_iterations=None, last_rate=None,\n",
    "                 start_momentum=0.95, end_momentum=0.85):\n",
    "        self.iterations = iterations\n",
    "        self.max_rate = max_rate\n",
    "        self.start_rate = start_rate or max_rate / 10\n",
    "        self.last_iterations = last_iterations or iterations // 10 + 1\n",
    "        self.half_iteration = (iterations - self.last_iterations) // 2\n",
    "        self.last_rate = last_rate or self.start_rate / 1000\n",
    "        self.start_momentum = start_momentum\n",
    "        self.end_momentum = end_momentum\n",
    "        self.iteration = 0\n",
    "        self.rates = []\n",
    "        self.momentums = []\n",
    "    def _interpolate(self, iter1, iter2, rate1, rate2):\n",
    "        return ((rate2 - rate1) * (iter2 - self.iteration)\n",
    "                / (iter2 - iter1) + rate1)\n",
    "    def on_batch_begin(self, batch, logs):\n",
    "        if self.iteration < self.half_iteration:\n",
    "            rate = self._interpolate(0, self.half_iteration, self.start_rate, self.max_rate)\n",
    "            momentum = self._interpolate(0, self.half_iteration, \n",
    "                                        self.start_momentum, self.end_momentum)\n",
    "        elif self.iteration < 2 * self.half_iteration:\n",
    "            rate = self._interpolate(self.half_iteration, 2 * self.half_iteration,\n",
    "                                     self.max_rate, self.start_rate)\n",
    "            momentum = self._interpolate(self.half_iteration, 2 * self.half_iteration,\n",
    "                                     self.end_momentum, self.start_momentum)\n",
    "        else:\n",
    "            rate = self._interpolate(2 * self.half_iteration, self.iterations,\n",
    "                                     self.start_rate, self.last_rate)\n",
    "            momentum = self._interpolate(2 * self.half_iteration, self.iterations,\n",
    "                                     self.start_momentum, self.end_momentum)\n",
    "            rate = max(rate, self.last_rate)\n",
    "            momentum = self.start_momentum\n",
    "        self.iteration += 1\n",
    "        self.rates.append(rate)\n",
    "        self.momentums.append(momentum)\n",
    "        K.set_value(self.model.optimizer.lr, rate)\n",
    "        K.set_value(self.model.optimizer.momentum, momentum)"
   ]
  },
  {
   "cell_type": "code",
   "execution_count": 285,
   "metadata": {
    "scrolled": true
   },
   "outputs": [
    {
     "name": "stdout",
     "output_type": "stream",
     "text": [
      "Train on 40000 samples, validate on 10000 samples\n",
      "Epoch 1/25\n",
      "40000/40000 [==============================] - 9s 227us/sample - loss: 1.8345 - accuracy: 0.3392 - val_loss: 1.7438 - val_accuracy: 0.3762\n",
      "Epoch 2/25\n",
      "40000/40000 [==============================] - 9s 216us/sample - loss: 1.6224 - accuracy: 0.4205 - val_loss: 1.6452 - val_accuracy: 0.4029\n",
      "Epoch 3/25\n",
      "40000/40000 [==============================] - 9s 221us/sample - loss: 1.5203 - accuracy: 0.4575 - val_loss: 1.5755 - val_accuracy: 0.4413\n",
      "Epoch 4/25\n",
      "40000/40000 [==============================] - 9s 220us/sample - loss: 1.4461 - accuracy: 0.4864 - val_loss: 1.5515 - val_accuracy: 0.4521\n",
      "Epoch 5/25\n",
      "40000/40000 [==============================] - 9s 221us/sample - loss: 1.3826 - accuracy: 0.5072 - val_loss: 1.5309 - val_accuracy: 0.4605\n",
      "Epoch 6/25\n",
      "40000/40000 [==============================] - 9s 230us/sample - loss: 1.3250 - accuracy: 0.5287 - val_loss: 1.5138 - val_accuracy: 0.4670\n",
      "Epoch 7/25\n",
      "40000/40000 [==============================] - 9s 224us/sample - loss: 1.2740 - accuracy: 0.5500 - val_loss: 1.4984 - val_accuracy: 0.4741\n",
      "Epoch 8/25\n",
      "40000/40000 [==============================] - 9s 225us/sample - loss: 1.2236 - accuracy: 0.5643 - val_loss: 1.4970 - val_accuracy: 0.4774\n",
      "Epoch 9/25\n",
      "40000/40000 [==============================] - 9s 219us/sample - loss: 1.1754 - accuracy: 0.5847 - val_loss: 1.5019 - val_accuracy: 0.4795\n",
      "Epoch 10/25\n",
      "40000/40000 [==============================] - 9s 227us/sample - loss: 1.1315 - accuracy: 0.6028 - val_loss: 1.5027 - val_accuracy: 0.4806\n",
      "Epoch 11/25\n",
      "40000/40000 [==============================] - 9s 220us/sample - loss: 1.0888 - accuracy: 0.6183 - val_loss: 1.5068 - val_accuracy: 0.4870\n",
      "Epoch 12/25\n",
      "40000/40000 [==============================] - 9s 224us/sample - loss: 1.0589 - accuracy: 0.6309 - val_loss: 1.5139 - val_accuracy: 0.4822\n",
      "Epoch 13/25\n",
      "40000/40000 [==============================] - 9s 221us/sample - loss: 1.0662 - accuracy: 0.6267 - val_loss: 1.5312 - val_accuracy: 0.4799\n",
      "Epoch 14/25\n",
      "40000/40000 [==============================] - 9s 225us/sample - loss: 1.0727 - accuracy: 0.6229 - val_loss: 1.5415 - val_accuracy: 0.4771\n",
      "Epoch 15/25\n",
      "40000/40000 [==============================] - 9s 222us/sample - loss: 1.0797 - accuracy: 0.6179 - val_loss: 1.5594 - val_accuracy: 0.4761\n",
      "Epoch 16/25\n",
      "40000/40000 [==============================] - 9s 222us/sample - loss: 1.0859 - accuracy: 0.6151 - val_loss: 1.5717 - val_accuracy: 0.4787\n",
      "Epoch 17/25\n",
      "40000/40000 [==============================] - 9s 224us/sample - loss: 1.0894 - accuracy: 0.6148 - val_loss: 1.5577 - val_accuracy: 0.4774\n",
      "Epoch 18/25\n",
      "40000/40000 [==============================] - 9s 223us/sample - loss: 1.0916 - accuracy: 0.6143 - val_loss: 1.5642 - val_accuracy: 0.4780\n",
      "Epoch 19/25\n",
      "40000/40000 [==============================] - 9s 222us/sample - loss: 1.0878 - accuracy: 0.6163 - val_loss: 1.5834 - val_accuracy: 0.4722\n",
      "Epoch 20/25\n",
      "40000/40000 [==============================] - 9s 221us/sample - loss: 1.0883 - accuracy: 0.6143 - val_loss: 1.5824 - val_accuracy: 0.4692\n",
      "Epoch 21/25\n",
      "40000/40000 [==============================] - 9s 221us/sample - loss: 1.0850 - accuracy: 0.6136 - val_loss: 1.5825 - val_accuracy: 0.4689\n",
      "Epoch 22/25\n",
      "40000/40000 [==============================] - 9s 224us/sample - loss: 1.0788 - accuracy: 0.6149 - val_loss: 1.5868 - val_accuracy: 0.4723\n",
      "Epoch 23/25\n",
      "40000/40000 [==============================] - 9s 223us/sample - loss: 1.0459 - accuracy: 0.6288 - val_loss: 1.5373 - val_accuracy: 0.4885\n",
      "Epoch 24/25\n",
      "40000/40000 [==============================] - 9s 220us/sample - loss: 0.8814 - accuracy: 0.6924 - val_loss: 1.5288 - val_accuracy: 0.4958\n",
      "Epoch 25/25\n",
      "40000/40000 [==============================] - 9s 224us/sample - loss: 0.8252 - accuracy: 0.7157 - val_loss: 1.5543 - val_accuracy: 0.4997\n"
     ]
    }
   ],
   "source": [
    "n_epochs = 25\n",
    "onecycle = OneCycleScheduler(len(X_train) // batch_size * n_epochs, max_rate=5e-3)\n",
    "history = model.fit(X_train, y_train, epochs=n_epochs, batch_size=batch_size,\n",
    "                    validation_data=(X_val, y_val),\n",
    "                    callbacks=[onecycle])"
   ]
  },
  {
   "cell_type": "markdown",
   "metadata": {},
   "source": [
    "### If you compare the losses for each epoch above with the plot earlier where we scanned the learning rate, you will see that we should get a loss around 1.6.  This is indeed what we get when we use the 1cycle scheduler.\n",
    "\n",
    "### What can we do, and what does not work with 1cycle learning rate scheduling:\n",
    "  - Cannot use dropout since dropout keeps changing the network for each batch.\n",
    "    Here we want to cycle through the learning rate in a particular sequence\n",
    "    for the same network\n",
    "  - Cannot use early stopping since our run through the learning rates will not be complete"
   ]
  },
  {
   "cell_type": "code",
   "execution_count": 286,
   "metadata": {},
   "outputs": [
    {
     "data": {
      "text/plain": [
       "(5e-07, 0.005000000000000001)"
      ]
     },
     "execution_count": 286,
     "metadata": {},
     "output_type": "execute_result"
    }
   ],
   "source": [
    "min(onecycle.rates), max(onecycle.rates)"
   ]
  },
  {
   "cell_type": "code",
   "execution_count": 287,
   "metadata": {},
   "outputs": [
    {
     "data": {
      "text/plain": [
       "[0, 40000, -0.001, 0.001]"
      ]
     },
     "execution_count": 287,
     "metadata": {},
     "output_type": "execute_result"
    },
    {
     "data": {
      "image/png": "[encoded data removed]",
      "text/plain": [
       "<Figure size 432x288 with 1 Axes>"
      ]
     },
     "metadata": {
      "needs_background": "light"
     },
     "output_type": "display_data"
    }
   ],
   "source": [
    "plt.scatter(range(len(onecycle.rates)), onecycle.rates)\n",
    "plt.axis([0, 40000, -0.001, 0.001])"
   ]
  },
  {
   "cell_type": "markdown",
   "metadata": {},
   "source": [
    "### Let's see if we can use He initialization and ELU activation to get good results with 1cycle learning schedule"
   ]
  },
  {
   "cell_type": "code",
   "execution_count": 288,
   "metadata": {
    "scrolled": true
   },
   "outputs": [
    {
     "name": "stdout",
     "output_type": "stream",
     "text": [
      "Model: \"sequential_29\"\n",
      "_________________________________________________________________\n",
      "Layer (type)                 Output Shape              Param #   \n",
      "=================================================================\n",
      "dense_599 (Dense)            (None, 100)               307300    \n",
      "_________________________________________________________________\n",
      "activation_558 (Activation)  (None, 100)               0         \n",
      "_________________________________________________________________\n",
      "dense_600 (Dense)            (None, 100)               10100     \n",
      "_________________________________________________________________\n",
      "activation_559 (Activation)  (None, 100)               0         \n",
      "_________________________________________________________________\n",
      "dense_601 (Dense)            (None, 100)               10100     \n",
      "_________________________________________________________________\n",
      "activation_560 (Activation)  (None, 100)               0         \n",
      "_________________________________________________________________\n",
      "dense_602 (Dense)            (None, 100)               10100     \n",
      "_________________________________________________________________\n",
      "activation_561 (Activation)  (None, 100)               0         \n",
      "_________________________________________________________________\n",
      "dense_603 (Dense)            (None, 100)               10100     \n",
      "_________________________________________________________________\n",
      "activation_562 (Activation)  (None, 100)               0         \n",
      "_________________________________________________________________\n",
      "dense_604 (Dense)            (None, 100)               10100     \n",
      "_________________________________________________________________\n",
      "activation_563 (Activation)  (None, 100)               0         \n",
      "_________________________________________________________________\n",
      "dense_605 (Dense)            (None, 100)               10100     \n",
      "_________________________________________________________________\n",
      "activation_564 (Activation)  (None, 100)               0         \n",
      "_________________________________________________________________\n",
      "dense_606 (Dense)            (None, 100)               10100     \n",
      "_________________________________________________________________\n",
      "activation_565 (Activation)  (None, 100)               0         \n",
      "_________________________________________________________________\n",
      "dense_607 (Dense)            (None, 100)               10100     \n",
      "_________________________________________________________________\n",
      "activation_566 (Activation)  (None, 100)               0         \n",
      "_________________________________________________________________\n",
      "dense_608 (Dense)            (None, 100)               10100     \n",
      "_________________________________________________________________\n",
      "activation_567 (Activation)  (None, 100)               0         \n",
      "_________________________________________________________________\n",
      "dense_609 (Dense)            (None, 100)               10100     \n",
      "_________________________________________________________________\n",
      "activation_568 (Activation)  (None, 100)               0         \n",
      "_________________________________________________________________\n",
      "dense_610 (Dense)            (None, 100)               10100     \n",
      "_________________________________________________________________\n",
      "activation_569 (Activation)  (None, 100)               0         \n",
      "_________________________________________________________________\n",
      "dense_611 (Dense)            (None, 100)               10100     \n",
      "_________________________________________________________________\n",
      "activation_570 (Activation)  (None, 100)               0         \n",
      "_________________________________________________________________\n",
      "dense_612 (Dense)            (None, 100)               10100     \n",
      "_________________________________________________________________\n",
      "activation_571 (Activation)  (None, 100)               0         \n",
      "_________________________________________________________________\n",
      "dense_613 (Dense)            (None, 100)               10100     \n",
      "_________________________________________________________________\n",
      "activation_572 (Activation)  (None, 100)               0         \n",
      "_________________________________________________________________\n",
      "dense_614 (Dense)            (None, 100)               10100     \n",
      "_________________________________________________________________\n",
      "activation_573 (Activation)  (None, 100)               0         \n",
      "_________________________________________________________________\n",
      "dense_615 (Dense)            (None, 100)               10100     \n",
      "_________________________________________________________________\n",
      "activation_574 (Activation)  (None, 100)               0         \n",
      "_________________________________________________________________\n",
      "dense_616 (Dense)            (None, 100)               10100     \n",
      "_________________________________________________________________\n",
      "activation_575 (Activation)  (None, 100)               0         \n",
      "_________________________________________________________________\n",
      "dense_617 (Dense)            (None, 100)               10100     \n",
      "_________________________________________________________________\n",
      "activation_576 (Activation)  (None, 100)               0         \n",
      "_________________________________________________________________\n",
      "dense_618 (Dense)            (None, 100)               10100     \n",
      "_________________________________________________________________\n",
      "activation_577 (Activation)  (None, 100)               0         \n",
      "_________________________________________________________________\n",
      "dense_619 (Dense)            (None, 10)                1010      \n",
      "=================================================================\n",
      "Total params: 500,210\n",
      "Trainable params: 500,210\n",
      "Non-trainable params: 0\n",
      "_________________________________________________________________\n"
     ]
    }
   ],
   "source": [
    "model = create_model(with_bn=False, \n",
    "                     initialization='he_normal', \n",
    "                     hidden_activation='elu')\n",
    "model.summary()"
   ]
  },
  {
   "cell_type": "code",
   "execution_count": 289,
   "metadata": {},
   "outputs": [],
   "source": [
    "model.compile(loss='sparse_categorical_crossentropy',\n",
    "              optimizer=SGD(),\n",
    "              metrics=['accuracy'])"
   ]
  },
  {
   "cell_type": "code",
   "execution_count": 290,
   "metadata": {},
   "outputs": [
    {
     "name": "stdout",
     "output_type": "stream",
     "text": [
      "Train on 40000 samples\n",
      "40000/40000 [==============================] - 8s 193us/sample - loss: nan - accuracy: 0.1401\n"
     ]
    },
    {
     "data": {
      "image/png": "[encoded data removed]",
      "text/plain": [
       "<Figure size 432x288 with 1 Axes>"
      ]
     },
     "metadata": {
      "needs_background": "light"
     },
     "output_type": "display_data"
    }
   ],
   "source": [
    "batch_size = 32\n",
    "rates, losses = find_learning_rate(model, X_train, y_train, epochs=1, batch_size=batch_size)\n",
    "plot_lr_vs_loss(onecycle.rates, onecycle.losses)"
   ]
  },
  {
   "cell_type": "code",
   "execution_count": 291,
   "metadata": {
    "scrolled": true
   },
   "outputs": [
    {
     "name": "stdout",
     "output_type": "stream",
     "text": [
      "Train on 40000 samples, validate on 10000 samples\n",
      "Epoch 1/25\n",
      "40000/40000 [==============================] - 8s 199us/sample - loss: 1.9359 - accuracy: 0.2977 - val_loss: 1.7862 - val_accuracy: 0.3573\n",
      "Epoch 2/25\n",
      "40000/40000 [==============================] - 8s 192us/sample - loss: 1.6839 - accuracy: 0.3961 - val_loss: 1.6741 - val_accuracy: 0.4022\n",
      "Epoch 3/25\n",
      "40000/40000 [==============================] - 8s 191us/sample - loss: 1.5663 - accuracy: 0.4415 - val_loss: 1.6091 - val_accuracy: 0.4245\n",
      "Epoch 4/25\n",
      "40000/40000 [==============================] - 8s 192us/sample - loss: 1.4854 - accuracy: 0.4708 - val_loss: 1.6187 - val_accuracy: 0.4230\n",
      "Epoch 5/25\n",
      "40000/40000 [==============================] - 8s 189us/sample - loss: 1.4186 - accuracy: 0.4965 - val_loss: 1.5697 - val_accuracy: 0.4398\n",
      "Epoch 6/25\n",
      "40000/40000 [==============================] - 8s 191us/sample - loss: 1.3539 - accuracy: 0.5212 - val_loss: 1.5529 - val_accuracy: 0.4473\n",
      "Epoch 7/25\n",
      "40000/40000 [==============================] - 8s 190us/sample - loss: 1.2966 - accuracy: 0.5390 - val_loss: 1.5513 - val_accuracy: 0.4511\n",
      "Epoch 8/25\n",
      "40000/40000 [==============================] - 8s 192us/sample - loss: 1.2434 - accuracy: 0.5598 - val_loss: 1.5513 - val_accuracy: 0.4634\n",
      "Epoch 9/25\n",
      "40000/40000 [==============================] - 8s 192us/sample - loss: 1.1878 - accuracy: 0.5814 - val_loss: 1.5701 - val_accuracy: 0.4601\n",
      "Epoch 10/25\n",
      "40000/40000 [==============================] - 8s 191us/sample - loss: 1.1360 - accuracy: 0.6003 - val_loss: 1.5776 - val_accuracy: 0.4650\n",
      "Epoch 11/25\n",
      "40000/40000 [==============================] - 8s 191us/sample - loss: 1.0830 - accuracy: 0.6190 - val_loss: 1.5947 - val_accuracy: 0.4650\n",
      "Epoch 12/25\n",
      "40000/40000 [==============================] - 8s 191us/sample - loss: 1.0451 - accuracy: 0.6310 - val_loss: 1.6071 - val_accuracy: 0.4615\n",
      "Epoch 13/25\n",
      "40000/40000 [==============================] - 8s 191us/sample - loss: 1.0549 - accuracy: 0.6294 - val_loss: 1.6198 - val_accuracy: 0.4561\n",
      "Epoch 14/25\n",
      "40000/40000 [==============================] - 8s 191us/sample - loss: 1.0660 - accuracy: 0.6270 - val_loss: 1.6284 - val_accuracy: 0.4539\n",
      "Epoch 15/25\n",
      "40000/40000 [==============================] - 8s 192us/sample - loss: 1.0781 - accuracy: 0.6209 - val_loss: 1.6473 - val_accuracy: 0.4570\n",
      "Epoch 16/25\n",
      "40000/40000 [==============================] - 8s 191us/sample - loss: 1.0855 - accuracy: 0.6175 - val_loss: 1.6479 - val_accuracy: 0.4502\n",
      "Epoch 17/25\n",
      "40000/40000 [==============================] - 8s 190us/sample - loss: 1.1014 - accuracy: 0.6110 - val_loss: 1.6548 - val_accuracy: 0.4451\n",
      "Epoch 18/25\n",
      "40000/40000 [==============================] - 8s 193us/sample - loss: 1.1064 - accuracy: 0.6084 - val_loss: 1.6474 - val_accuracy: 0.4491\n",
      "Epoch 19/25\n",
      "40000/40000 [==============================] - 8s 195us/sample - loss: 1.1065 - accuracy: 0.6090 - val_loss: 1.6511 - val_accuracy: 0.4523\n",
      "Epoch 20/25\n",
      "40000/40000 [==============================] - 8s 197us/sample - loss: 1.1175 - accuracy: 0.6029 - val_loss: 1.6577 - val_accuracy: 0.4509\n",
      "Epoch 21/25\n",
      "40000/40000 [==============================] - 8s 197us/sample - loss: 1.1148 - accuracy: 0.6042 - val_loss: 1.6570 - val_accuracy: 0.4558\n",
      "Epoch 22/25\n",
      "40000/40000 [==============================] - 8s 198us/sample - loss: 1.1082 - accuracy: 0.6090 - val_loss: 1.6363 - val_accuracy: 0.4595\n",
      "Epoch 23/25\n",
      "40000/40000 [==============================] - 8s 197us/sample - loss: 1.0846 - accuracy: 0.6204 - val_loss: 1.6134 - val_accuracy: 0.4677\n",
      "Epoch 24/25\n",
      "40000/40000 [==============================] - 8s 199us/sample - loss: 0.8926 - accuracy: 0.6906 - val_loss: 1.6364 - val_accuracy: 0.4766\n",
      "Epoch 25/25\n",
      "40000/40000 [==============================] - 8s 197us/sample - loss: 0.8218 - accuracy: 0.7157 - val_loss: 1.6736 - val_accuracy: 0.4821\n"
     ]
    }
   ],
   "source": [
    "n_epochs = 25\n",
    "onecycle = OneCycleScheduler(len(X_train) // batch_size * n_epochs, max_rate=1e-2)\n",
    "history = model.fit(X_train, y_train, epochs=n_epochs, batch_size=batch_size,\n",
    "                    validation_data=(X_val, y_val),\n",
    "                    callbacks=[onecycle])"
   ]
  },
  {
   "cell_type": "markdown",
   "metadata": {},
   "source": [
    "### Accuracy as with lecun_normal initialization and SELU activation = 0.5\n",
    "### Accuracy with he_normal initialization and ELU activation = 0.48"
   ]
  },
  {
   "cell_type": "code",
   "execution_count": 292,
   "metadata": {
    "scrolled": true
   },
   "outputs": [
    {
     "name": "stdout",
     "output_type": "stream",
     "text": [
      "Model: \"sequential_30\"\n",
      "_________________________________________________________________\n",
      "Layer (type)                 Output Shape              Param #   \n",
      "=================================================================\n",
      "dense_620 (Dense)            (None, 100)               307300    \n",
      "_________________________________________________________________\n",
      "activation_578 (Activation)  (None, 100)               0         \n",
      "_________________________________________________________________\n",
      "dense_621 (Dense)            (None, 100)               10100     \n",
      "_________________________________________________________________\n",
      "activation_579 (Activation)  (None, 100)               0         \n",
      "_________________________________________________________________\n",
      "dense_622 (Dense)            (None, 100)               10100     \n",
      "_________________________________________________________________\n",
      "activation_580 (Activation)  (None, 100)               0         \n",
      "_________________________________________________________________\n",
      "dense_623 (Dense)            (None, 100)               10100     \n",
      "_________________________________________________________________\n",
      "activation_581 (Activation)  (None, 100)               0         \n",
      "_________________________________________________________________\n",
      "dense_624 (Dense)            (None, 100)               10100     \n",
      "_________________________________________________________________\n",
      "activation_582 (Activation)  (None, 100)               0         \n",
      "_________________________________________________________________\n",
      "dense_625 (Dense)            (None, 100)               10100     \n",
      "_________________________________________________________________\n",
      "activation_583 (Activation)  (None, 100)               0         \n",
      "_________________________________________________________________\n",
      "dense_626 (Dense)            (None, 100)               10100     \n",
      "_________________________________________________________________\n",
      "activation_584 (Activation)  (None, 100)               0         \n",
      "_________________________________________________________________\n",
      "dense_627 (Dense)            (None, 100)               10100     \n",
      "_________________________________________________________________\n",
      "activation_585 (Activation)  (None, 100)               0         \n",
      "_________________________________________________________________\n",
      "dense_628 (Dense)            (None, 100)               10100     \n",
      "_________________________________________________________________\n",
      "activation_586 (Activation)  (None, 100)               0         \n",
      "_________________________________________________________________\n",
      "dense_629 (Dense)            (None, 100)               10100     \n",
      "_________________________________________________________________\n",
      "activation_587 (Activation)  (None, 100)               0         \n",
      "_________________________________________________________________\n",
      "dense_630 (Dense)            (None, 100)               10100     \n",
      "_________________________________________________________________\n",
      "activation_588 (Activation)  (None, 100)               0         \n",
      "_________________________________________________________________\n",
      "dense_631 (Dense)            (None, 100)               10100     \n",
      "_________________________________________________________________\n",
      "activation_589 (Activation)  (None, 100)               0         \n",
      "_________________________________________________________________\n",
      "dense_632 (Dense)            (None, 100)               10100     \n",
      "_________________________________________________________________\n",
      "activation_590 (Activation)  (None, 100)               0         \n",
      "_________________________________________________________________\n",
      "dense_633 (Dense)            (None, 100)               10100     \n",
      "_________________________________________________________________\n",
      "activation_591 (Activation)  (None, 100)               0         \n",
      "_________________________________________________________________\n",
      "dense_634 (Dense)            (None, 100)               10100     \n",
      "_________________________________________________________________\n",
      "activation_592 (Activation)  (None, 100)               0         \n",
      "_________________________________________________________________\n",
      "dense_635 (Dense)            (None, 100)               10100     \n",
      "_________________________________________________________________\n",
      "activation_593 (Activation)  (None, 100)               0         \n",
      "_________________________________________________________________\n",
      "dense_636 (Dense)            (None, 100)               10100     \n",
      "_________________________________________________________________\n",
      "activation_594 (Activation)  (None, 100)               0         \n",
      "_________________________________________________________________\n",
      "dense_637 (Dense)            (None, 100)               10100     \n",
      "_________________________________________________________________\n",
      "activation_595 (Activation)  (None, 100)               0         \n",
      "_________________________________________________________________\n",
      "dense_638 (Dense)            (None, 100)               10100     \n",
      "_________________________________________________________________\n",
      "activation_596 (Activation)  (None, 100)               0         \n",
      "_________________________________________________________________\n",
      "dense_639 (Dense)            (None, 100)               10100     \n",
      "_________________________________________________________________\n",
      "activation_597 (Activation)  (None, 100)               0         \n",
      "_________________________________________________________________\n",
      "dense_640 (Dense)            (None, 10)                1010      \n",
      "=================================================================\n",
      "Total params: 500,210\n",
      "Trainable params: 500,210\n",
      "Non-trainable params: 0\n",
      "_________________________________________________________________\n"
     ]
    }
   ],
   "source": [
    "model = create_model(with_bn=False, \n",
    "                     initialization='he_normal', \n",
    "                     hidden_activation='elu')\n",
    "model.summary()"
   ]
  },
  {
   "cell_type": "code",
   "execution_count": 293,
   "metadata": {},
   "outputs": [],
   "source": [
    "model.compile(loss='sparse_categorical_crossentropy',\n",
    "              optimizer='nadam',\n",
    "              metrics=['accuracy'])"
   ]
  },
  {
   "cell_type": "code",
   "execution_count": 294,
   "metadata": {},
   "outputs": [
    {
     "name": "stdout",
     "output_type": "stream",
     "text": [
      "Train on 40000 samples\n",
      "40000/40000 [==============================] - 15s 382us/sample - loss: 8621276790.3577 - accuracy: 0.1392\n"
     ]
    },
    {
     "data": {
      "image/png": "[encoded data removed]",
      "text/plain": [
       "<Figure size 432x288 with 1 Axes>"
      ]
     },
     "metadata": {
      "needs_background": "light"
     },
     "output_type": "display_data"
    }
   ],
   "source": [
    "batch_size = 32\n",
    "rates, losses = find_learning_rate(model, X_train, y_train, epochs=1, batch_size=batch_size)\n",
    "plot_lr_vs_loss(onecycle.rates, onecycle.losses)"
   ]
  },
  {
   "cell_type": "code",
   "execution_count": 295,
   "metadata": {
    "scrolled": true
   },
   "outputs": [
    {
     "name": "stdout",
     "output_type": "stream",
     "text": [
      "Train on 40000 samples, validate on 10000 samples\n",
      "Epoch 1/25\n",
      "40000/40000 [==============================] - 14s 339us/sample - loss: 2.1133 - accuracy: 0.2258 - val_loss: 2.0406 - val_accuracy: 0.2417\n",
      "Epoch 2/25\n",
      "40000/40000 [==============================] - 13s 333us/sample - loss: 1.9822 - accuracy: 0.2693 - val_loss: 2.0095 - val_accuracy: 0.2601\n",
      "Epoch 3/25\n",
      "40000/40000 [==============================] - 13s 334us/sample - loss: 1.9424 - accuracy: 0.2866 - val_loss: 1.9505 - val_accuracy: 0.2855\n",
      "Epoch 4/25\n",
      "40000/40000 [==============================] - 13s 332us/sample - loss: 1.9127 - accuracy: 0.2995 - val_loss: 1.9405 - val_accuracy: 0.2900\n",
      "Epoch 5/25\n",
      "40000/40000 [==============================] - 13s 336us/sample - loss: 1.8880 - accuracy: 0.3131 - val_loss: 1.9094 - val_accuracy: 0.2998\n",
      "Epoch 6/25\n",
      "40000/40000 [==============================] - 13s 332us/sample - loss: 1.8657 - accuracy: 0.3228 - val_loss: 1.9069 - val_accuracy: 0.3069\n",
      "Epoch 7/25\n",
      "40000/40000 [==============================] - 13s 332us/sample - loss: 1.8434 - accuracy: 0.3280 - val_loss: 1.8869 - val_accuracy: 0.3135\n",
      "Epoch 8/25\n",
      "40000/40000 [==============================] - 13s 331us/sample - loss: 1.8225 - accuracy: 0.3403 - val_loss: 1.8950 - val_accuracy: 0.3106\n",
      "Epoch 9/25\n",
      "40000/40000 [==============================] - 13s 329us/sample - loss: 1.8022 - accuracy: 0.3464 - val_loss: 1.8822 - val_accuracy: 0.3210\n",
      "Epoch 10/25\n",
      "40000/40000 [==============================] - 13s 331us/sample - loss: 1.7780 - accuracy: 0.3568 - val_loss: 1.8823 - val_accuracy: 0.3157\n",
      "Epoch 11/25\n",
      "40000/40000 [==============================] - 13s 333us/sample - loss: 1.7518 - accuracy: 0.3674 - val_loss: 1.8831 - val_accuracy: 0.3208\n",
      "Epoch 12/25\n",
      "40000/40000 [==============================] - 13s 335us/sample - loss: 1.7305 - accuracy: 0.3758 - val_loss: 1.8946 - val_accuracy: 0.3177\n",
      "Epoch 13/25\n",
      "40000/40000 [==============================] - 13s 334us/sample - loss: 1.7425 - accuracy: 0.3717 - val_loss: 1.8937 - val_accuracy: 0.3195\n",
      "Epoch 14/25\n",
      "40000/40000 [==============================] - 13s 328us/sample - loss: 1.7537 - accuracy: 0.3645 - val_loss: 1.9076 - val_accuracy: 0.3128\n",
      "Epoch 15/25\n",
      "40000/40000 [==============================] - 13s 330us/sample - loss: 1.7734 - accuracy: 0.3595 - val_loss: 1.9130 - val_accuracy: 0.3129\n",
      "Epoch 16/25\n",
      "40000/40000 [==============================] - 13s 331us/sample - loss: 1.7917 - accuracy: 0.3530 - val_loss: 1.9033 - val_accuracy: 0.3151\n",
      "Epoch 17/25\n",
      "40000/40000 [==============================] - 13s 331us/sample - loss: 1.8107 - accuracy: 0.3419 - val_loss: 1.8962 - val_accuracy: 0.3110\n",
      "Epoch 18/25\n",
      "40000/40000 [==============================] - 13s 336us/sample - loss: 1.8204 - accuracy: 0.3410 - val_loss: 1.8952 - val_accuracy: 0.3110\n",
      "Epoch 19/25\n",
      "40000/40000 [==============================] - 14s 342us/sample - loss: 1.8242 - accuracy: 0.3397 - val_loss: 1.8963 - val_accuracy: 0.3165\n",
      "Epoch 20/25\n",
      "40000/40000 [==============================] - 14s 340us/sample - loss: 1.8216 - accuracy: 0.3391 - val_loss: 1.8516 - val_accuracy: 0.3403\n",
      "Epoch 21/25\n",
      "40000/40000 [==============================] - 13s 337us/sample - loss: 1.8013 - accuracy: 0.3480 - val_loss: 1.8293 - val_accuracy: 0.3382\n",
      "Epoch 22/25\n",
      "40000/40000 [==============================] - 14s 339us/sample - loss: 1.7748 - accuracy: 0.3640 - val_loss: 1.7980 - val_accuracy: 0.3611\n",
      "Epoch 23/25\n",
      "40000/40000 [==============================] - 14s 338us/sample - loss: 1.7314 - accuracy: 0.3799 - val_loss: 1.7387 - val_accuracy: 0.3799\n",
      "Epoch 24/25\n",
      "40000/40000 [==============================] - 14s 339us/sample - loss: 1.6158 - accuracy: 0.4224 - val_loss: 1.7086 - val_accuracy: 0.3953\n",
      "Epoch 25/25\n",
      "40000/40000 [==============================] - 14s 338us/sample - loss: 1.5818 - accuracy: 0.4337 - val_loss: 1.6981 - val_accuracy: 0.3978\n"
     ]
    }
   ],
   "source": [
    "n_epochs = 25\n",
    "onecycle = OneCycleScheduler(len(X_train) // batch_size * n_epochs, max_rate=3e-3)\n",
    "history = model.fit(X_train, y_train, epochs=n_epochs, batch_size=batch_size,\n",
    "                    validation_data=(X_val, y_val),\n",
    "                    callbacks=[onecycle])"
   ]
  },
  {
   "cell_type": "markdown",
   "metadata": {},
   "source": [
    "### Since RMSProp optimizer uses momentum, let's try decreasing the momentum as we increase the learning rate, and increasing the momentum as we decrease the learning rate"
   ]
  },
  {
   "cell_type": "code",
   "execution_count": 374,
   "metadata": {},
   "outputs": [],
   "source": [
    "model = create_model(with_bn=False, \n",
    "                     initialization='he_normal', \n",
    "                     hidden_activation='elu')\n",
    "model.compile(loss='sparse_categorical_crossentropy',\n",
    "              optimizer='rmsprop',\n",
    "              metrics=['accuracy'])"
   ]
  },
  {
   "cell_type": "code",
   "execution_count": 375,
   "metadata": {},
   "outputs": [
    {
     "name": "stdout",
     "output_type": "stream",
     "text": [
      "Train on 40000 samples\n",
      "40000/40000 [==============================] - 13s 314us/sample - loss: 1737092.0388 - accuracy: 0.1258\n"
     ]
    },
    {
     "data": {
      "image/png": "[encoded data removed]",
      "text/plain": [
       "<Figure size 432x288 with 1 Axes>"
      ]
     },
     "metadata": {
      "needs_background": "light"
     },
     "output_type": "display_data"
    }
   ],
   "source": [
    "batch_size = 32\n",
    "rates, losses = find_learning_rate_with_momentum(model, \n",
    "                                                 X_train, y_train, epochs=1, \n",
    "                                                 batch_size=batch_size)\n",
    "plot_lr_vs_loss(rates, losses)"
   ]
  },
  {
   "cell_type": "code",
   "execution_count": 376,
   "metadata": {
    "scrolled": true
   },
   "outputs": [
    {
     "name": "stdout",
     "output_type": "stream",
     "text": [
      "Train on 40000 samples, validate on 10000 samples\n",
      "Epoch 1/25\n",
      "40000/40000 [==============================] - 12s 288us/sample - loss: 2.0465 - accuracy: 0.2507 - val_loss: 1.9097 - val_accuracy: 0.3034\n",
      "Epoch 2/25\n",
      "40000/40000 [==============================] - 11s 284us/sample - loss: 1.7757 - accuracy: 0.3532 - val_loss: 1.7050 - val_accuracy: 0.3679\n",
      "Epoch 3/25\n",
      "40000/40000 [==============================] - 11s 284us/sample - loss: 1.6524 - accuracy: 0.4092 - val_loss: 1.6628 - val_accuracy: 0.4028\n",
      "Epoch 4/25\n",
      "40000/40000 [==============================] - 11s 284us/sample - loss: 1.5708 - accuracy: 0.4453 - val_loss: 1.6217 - val_accuracy: 0.4136\n",
      "Epoch 5/25\n",
      "40000/40000 [==============================] - 11s 286us/sample - loss: 2.1803 - accuracy: 0.4732 - val_loss: 1.5816 - val_accuracy: 0.4334\n",
      "Epoch 6/25\n",
      "40000/40000 [==============================] - 11s 283us/sample - loss: 2.0799 - accuracy: 0.4977 - val_loss: 1.5428 - val_accuracy: 0.4594\n",
      "Epoch 7/25\n",
      "40000/40000 [==============================] - 11s 284us/sample - loss: 1.7549 - accuracy: 0.5224 - val_loss: 1.5196 - val_accuracy: 0.4767\n",
      "Epoch 8/25\n",
      "40000/40000 [==============================] - 11s 287us/sample - loss: 1.4564 - accuracy: 0.5410 - val_loss: 1.5059 - val_accuracy: 0.4777\n",
      "Epoch 9/25\n",
      "40000/40000 [==============================] - 11s 285us/sample - loss: 1.2684 - accuracy: 0.5622 - val_loss: 1.5335 - val_accuracy: 0.4792\n",
      "Epoch 10/25\n",
      "40000/40000 [==============================] - 11s 284us/sample - loss: 1.3058 - accuracy: 0.5828 - val_loss: 1.5387 - val_accuracy: 0.4909\n",
      "Epoch 11/25\n",
      "40000/40000 [==============================] - 11s 284us/sample - loss: 1.1371 - accuracy: 0.6008 - val_loss: 1.5922 - val_accuracy: 0.4984\n",
      "Epoch 12/25\n",
      "40000/40000 [==============================] - 11s 284us/sample - loss: 1.0902 - accuracy: 0.6170 - val_loss: 1.5792 - val_accuracy: 0.4835\n",
      "Epoch 13/25\n",
      "40000/40000 [==============================] - 11s 285us/sample - loss: 1.1363 - accuracy: 0.6151 - val_loss: 1.6190 - val_accuracy: 0.4881\n",
      "Epoch 14/25\n",
      "40000/40000 [==============================] - 11s 282us/sample - loss: 1.1292 - accuracy: 0.6072 - val_loss: 1.6114 - val_accuracy: 0.4863\n",
      "Epoch 15/25\n",
      "40000/40000 [==============================] - 11s 284us/sample - loss: 1.1787 - accuracy: 0.6019 - val_loss: 1.5673 - val_accuracy: 0.4865\n",
      "Epoch 16/25\n",
      "40000/40000 [==============================] - 11s 284us/sample - loss: 1.2154 - accuracy: 0.5935 - val_loss: 1.6106 - val_accuracy: 0.4674\n",
      "Epoch 17/25\n",
      "40000/40000 [==============================] - 11s 284us/sample - loss: 2.0230 - accuracy: 0.5843 - val_loss: 1.6383 - val_accuracy: 0.4693\n",
      "Epoch 18/25\n",
      "40000/40000 [==============================] - 11s 285us/sample - loss: 1.3982 - accuracy: 0.5758 - val_loss: 1.5816 - val_accuracy: 0.4664\n",
      "Epoch 19/25\n",
      "40000/40000 [==============================] - 11s 286us/sample - loss: 1.2727 - accuracy: 0.5637 - val_loss: 1.6328 - val_accuracy: 0.4661\n",
      "Epoch 20/25\n",
      "40000/40000 [==============================] - 11s 285us/sample - loss: 5.4764 - accuracy: 0.5587 - val_loss: 1.5964 - val_accuracy: 0.4770\n",
      "Epoch 21/25\n",
      "40000/40000 [==============================] - 11s 284us/sample - loss: 2.6426 - accuracy: 0.5490 - val_loss: 2.1331 - val_accuracy: 0.4304\n",
      "Epoch 22/25\n",
      "40000/40000 [==============================] - 11s 284us/sample - loss: 1.3811 - accuracy: 0.5339 - val_loss: 1.7441 - val_accuracy: 0.4495\n",
      "Epoch 23/25\n",
      "40000/40000 [==============================] - 11s 284us/sample - loss: 1.3598 - accuracy: 0.5461 - val_loss: 1.5823 - val_accuracy: 0.4755\n",
      "Epoch 24/25\n",
      "40000/40000 [==============================] - 11s 286us/sample - loss: 1.1117 - accuracy: 0.6115 - val_loss: 1.5693 - val_accuracy: 0.4901\n",
      "Epoch 25/25\n",
      "40000/40000 [==============================] - 11s 282us/sample - loss: 1.0488 - accuracy: 0.6331 - val_loss: 1.6123 - val_accuracy: 0.4896\n"
     ]
    }
   ],
   "source": [
    "n_epochs = 25\n",
    "onecycle = OneCycleSchedulerWithMomentum(len(X_train) // batch_size * n_epochs, \n",
    "                                         max_rate=1e-3)\n",
    "history = model.fit(X_train, y_train, epochs=n_epochs, batch_size=batch_size,\n",
    "                    validation_data=(X_val, y_val),\n",
    "                    callbacks=[onecycle])"
   ]
  },
  {
   "cell_type": "code",
   "execution_count": 377,
   "metadata": {},
   "outputs": [
    {
     "data": {
      "text/plain": [
       "(0.85, 0.95, 1.0000000000000243e-07, 0.001)"
      ]
     },
     "execution_count": 377,
     "metadata": {},
     "output_type": "execute_result"
    }
   ],
   "source": [
    "min(onecycle.momentums), max(onecycle.momentums), min(onecycle.rates), max(onecycle.rates)"
   ]
  },
  {
   "cell_type": "code",
   "execution_count": 378,
   "metadata": {},
   "outputs": [
    {
     "data": {
      "image/png": "[encoded data removed]",
      "text/plain": [
       "<Figure size 432x288 with 1 Axes>"
      ]
     },
     "metadata": {
      "needs_background": "light"
     },
     "output_type": "display_data"
    }
   ],
   "source": [
    "plt.plot(onecycle.rates, onecycle.momentums);\n",
    "plt.gca().set_xlabel('rates');\n",
    "plt.gca().set_ylabel('momentums');"
   ]
  },
  {
   "cell_type": "markdown",
   "metadata": {},
   "source": [
    "### You can use beta_1 and beta_2 for the Nadam optimizer by changing the 1cycle code above for beta_1 and beta_2. This is just the same as for the RMSProp using momentum"
   ]
  },
  {
   "cell_type": "code",
   "execution_count": 381,
   "metadata": {},
   "outputs": [],
   "source": [
    "model = create_model(with_bn=False, \n",
    "                     initialization='he_normal', \n",
    "                     hidden_activation='elu')\n",
    "model.compile(loss='sparse_categorical_crossentropy',\n",
    "              optimizer='nadam',\n",
    "              metrics=['accuracy'])"
   ]
  },
  {
   "cell_type": "code",
   "execution_count": 382,
   "metadata": {},
   "outputs": [
    {
     "data": {
      "text/plain": [
       "0.9"
      ]
     },
     "execution_count": 382,
     "metadata": {},
     "output_type": "execute_result"
    }
   ],
   "source": [
    "K.get_value(model.optimizer.beta_1)"
   ]
  },
  {
   "cell_type": "code",
   "execution_count": 383,
   "metadata": {},
   "outputs": [
    {
     "data": {
      "text/plain": [
       "0.999"
      ]
     },
     "execution_count": 383,
     "metadata": {},
     "output_type": "execute_result"
    }
   ],
   "source": [
    "K.get_value(model.optimizer.beta_2)"
   ]
  },
  {
   "cell_type": "code",
   "execution_count": null,
   "metadata": {},
   "outputs": [],
   "source": []
  }
 ],
 "metadata": {
  "kernelspec": {
   "display_name": "Python 3",
   "language": "python",
   "name": "python3"
  },
  "language_info": {
   "codemirror_mode": {
    "name": "ipython",
    "version": 3
   },
   "file_extension": ".py",
   "mimetype": "text/x-python",
   "name": "python",
   "nbconvert_exporter": "python",
   "pygments_lexer": "ipython3",
   "version": "3.7.4"
  }
 },
 "nbformat": 4,
 "nbformat_minor": 2
}
