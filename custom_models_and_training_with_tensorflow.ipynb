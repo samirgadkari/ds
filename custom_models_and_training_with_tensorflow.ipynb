{
 "cells": [
  {
   "cell_type": "markdown",
   "metadata": {},
   "source": [
    "## Notes on Chapter 12 of Aurélien Géron's: Hands-On machine learning with SciKit-Learn, Keras and Tensorflow (2nd edition)."
   ]
  },
  {
   "cell_type": "code",
   "execution_count": 39,
   "metadata": {},
   "outputs": [],
   "source": [
    "import numpy as np\n",
    "\n",
    "np.random.seed(42)\n",
    "\n",
    "import tensorflow as tf\n",
    "\n",
    "tf.random.set_seed(42)\n",
    "\n",
    "from tensorflow import keras"
   ]
  },
  {
   "cell_type": "markdown",
   "metadata": {},
   "source": [
    "95% of the code you encounter will require only tf.keras and tf.data. Here you learn to create custom:\n",
    "  - loss functions\n",
    "  - metrics\n",
    "  - layers\n",
    "  - models\n",
    "  - initializers\n",
    "  - regularizers\n",
    "  - weight constraints\n",
    "  - training loop\n",
    "    - 99% of the time you will not need a custom loop\n",
    "    - for the 1% you need it you can apply\n",
    "      - special transformations or constraints to the gradients\n",
    "      - multiple optimizers for different parts of the network"
   ]
  },
  {
   "cell_type": "markdown",
   "metadata": {},
   "source": [
    "## Tensorflow Library Tour"
   ]
  },
  {
   "cell_type": "markdown",
   "metadata": {},
   "source": [
    "  - Well suited for heavy computations\n",
    "  - Fine-tuned for large-scale machine learning\n",
    "  - Developed by the Google Brain team. Powers many of Google's large-scale services\n",
    "  - Overview of Tensorflow offerings:\n",
    "    - Similar to numpy, but with GPU support\n",
    "    - Each operation\n",
    "      - is implemented using highly efficient C++ code\n",
    "      - has multiple implementations called kernels (one for CPUs, one for GPUs, one for TPUs)\n",
    "    - Supports distributed computing\n",
    "    - Extracts computation graph from Python functions, optimizes it, runs it in parallel\n",
    "    - Train a Tensorflow model in one environment (Python on Linux), export the computation graph, run it in another environment (Java on Android)\n",
    "    - Implements autodiff for computing gradients faster\n",
    "    - Provides excellent optimizers like RMSProp and Nadam\n",
    "  - Main uses of Tensorflow:\n",
    "    - High level Deep learning APIs\n",
    "      - tf.keras (recommended)\n",
    "      - tf.estimator\n",
    "    - Low level deep learning APIs\n",
    "      - tf.nn\n",
    "      - tf.losses\n",
    "      - tf.metrics\n",
    "      - tf.optimizers\n",
    "      - tf.train\n",
    "      - tf.initializers\n",
    "    - Autodiff\n",
    "      - tf.GradientTape\n",
    "      - tf.gradients()\n",
    "    - I/O and processing\n",
    "      - tf.data\n",
    "      - tf.feature_column\n",
    "      - tf.audio\n",
    "      - tf.image\n",
    "      - tf.io\n",
    "      - tf.queue\n",
    "    - Visualization with TensorBoard\n",
    "      - tf.summary\n",
    "    - Deployment and optimization\n",
    "      - tf.distribute\n",
    "      - tf.saved_model\n",
    "      - tf.autograph\n",
    "      - tf.graph_util\n",
    "      - tf.lite\n",
    "      - tf.quantization\n",
    "      - tf.tpu\n",
    "      - tf.xla\n",
    "    - Special data structures\n",
    "      - tf.lookup\n",
    "      - tf.nest\n",
    "      - tf.ragged\n",
    "      - tf.sets\n",
    "      - tf.sparse\n",
    "      - tf.strings\n",
    "    - Mathematics, including linear algebra and signal processing\n",
    "      - tf.math\n",
    "      - tf.linalg\n",
    "      - tf.signal\n",
    "      - tf.random\n",
    "      - tf.bitwise\n",
    "    - Miscellaneous\n",
    "      - tf.compat\n",
    "      - tf.config\n",
    "      - and more ...\n",
    "  - TensorFlow library ecosystem\n",
    "    - Tensorboard for visualization\n",
    "    - TensorFlow Extended (TFX) to productionize Tensorflow projects. Includes tools for\n",
    "      - Data validation\n",
    "      - Preprocessing\n",
    "      - Model analysis\n",
    "      - Serving with TF Serving\n",
    "    - To download and re-use pre-trained models for particular datasets:\n",
    "      - https://www.tensorflow.org/resources/models-datasets\n",
    "      - https://github.com/jtoy/awesome-tensorflow\n",
    "      - Tensorflow Hub: https://www.tensorflow.org/hub/\n",
    "      - https://github.com/tensorflow/models/\n",
    "      - Machine learning papers with code: https://paperswithcode.com/"
   ]
  },
  {
   "cell_type": "markdown",
   "metadata": {},
   "source": [
    "## Using Tensorflow like numpy"
   ]
  },
  {
   "cell_type": "markdown",
   "metadata": {},
   "source": [
    "### Tensor operations"
   ]
  },
  {
   "cell_type": "code",
   "execution_count": 40,
   "metadata": {},
   "outputs": [
    {
     "data": {
      "text/plain": [
       "<tf.Tensor: id=86, shape=(2, 3), dtype=float32, numpy=\n",
       "array([[1., 2., 3.],\n",
       "       [4., 5., 6.]], dtype=float32)>"
      ]
     },
     "execution_count": 40,
     "metadata": {},
     "output_type": "execute_result"
    }
   ],
   "source": [
    "t = tf.constant([[1., 2., 3.], [4., 5., 6.]])    # matrix\n",
    "t"
   ]
  },
  {
   "cell_type": "code",
   "execution_count": 41,
   "metadata": {},
   "outputs": [
    {
     "data": {
      "text/plain": [
       "<tf.Tensor: id=87, shape=(), dtype=int32, numpy=10>"
      ]
     },
     "execution_count": 41,
     "metadata": {},
     "output_type": "execute_result"
    }
   ],
   "source": [
    "tf.constant(10)                                  # scalar"
   ]
  },
  {
   "cell_type": "code",
   "execution_count": 42,
   "metadata": {},
   "outputs": [
    {
     "data": {
      "text/plain": [
       "(TensorShape([2, 3]), tf.float32)"
      ]
     },
     "execution_count": 42,
     "metadata": {},
     "output_type": "execute_result"
    }
   ],
   "source": [
    "t.shape, t.dtype"
   ]
  },
  {
   "cell_type": "markdown",
   "metadata": {},
   "source": [
    "#### Tensorflow indexing is same as Numpy indexing"
   ]
  },
  {
   "cell_type": "code",
   "execution_count": 43,
   "metadata": {},
   "outputs": [
    {
     "data": {
      "text/plain": [
       "<tf.Tensor: id=91, shape=(2, 1), dtype=float32, numpy=\n",
       "array([[1.],\n",
       "       [4.]], dtype=float32)>"
      ]
     },
     "execution_count": 43,
     "metadata": {},
     "output_type": "execute_result"
    }
   ],
   "source": [
    "t[:, :1]                                         # Selecting a column as a 2-D array"
   ]
  },
  {
   "cell_type": "code",
   "execution_count": 44,
   "metadata": {},
   "outputs": [
    {
     "data": {
      "text/plain": [
       "<tf.Tensor: id=95, shape=(2,), dtype=float32, numpy=array([2., 5.], dtype=float32)>"
      ]
     },
     "execution_count": 44,
     "metadata": {},
     "output_type": "execute_result"
    }
   ],
   "source": [
    "t[..., 1]                                         # Selecting a column as a 1-D array"
   ]
  },
  {
   "cell_type": "code",
   "execution_count": 45,
   "metadata": {},
   "outputs": [
    {
     "data": {
      "text/plain": [
       "<tf.Tensor: id=99, shape=(2, 1), dtype=float32, numpy=\n",
       "array([[2.],\n",
       "       [5.]], dtype=float32)>"
      ]
     },
     "execution_count": 45,
     "metadata": {},
     "output_type": "execute_result"
    }
   ],
   "source": [
    "t[..., 1, tf.newaxis]                            # The selection is made based on\n",
    "                                                 # t[..., 1] =>\n",
    "                                                 #   Select all dimensions until the last\n",
    "                                                 #   Select only index 1 of the last dimension.\n",
    "                                                 #   Resulting in [2, 5]\n",
    "                                                 # Since tf.newaxis is at the last position,\n",
    "                                                 # the selected values are enclosed inside\n",
    "                                                 # square brackets for each element =>\n",
    "                                                 #   Resulting in [[2], [5]]"
   ]
  },
  {
   "cell_type": "code",
   "execution_count": 46,
   "metadata": {},
   "outputs": [
    {
     "data": {
      "text/plain": [
       "<tf.Tensor: id=103, shape=(3, 1), dtype=float32, numpy=\n",
       "array([[1.],\n",
       "       [2.],\n",
       "       [3.]], dtype=float32)>"
      ]
     },
     "execution_count": 46,
     "metadata": {},
     "output_type": "execute_result"
    }
   ],
   "source": [
    "t[0, ..., tf.newaxis]                            # The selection is made based on\n",
    "                                                 # t[0, ...] =>\n",
    "                                                 #   Select only index 0 of the first dimension.\n",
    "                                                 #   Resulting in [1, 2, 3]\n",
    "                                                 #   Select all dimensions until the last\n",
    "                                                 # Since tf.newaxis is at the last position,\n",
    "                                                 # the selected values are enclosed inside\n",
    "                                                 # square brackets for each element =>\n",
    "                                                 #   Resulting in [[1], [2], [3]]"
   ]
  },
  {
   "cell_type": "code",
   "execution_count": 47,
   "metadata": {},
   "outputs": [
    {
     "data": {
      "text/plain": [
       "<tf.Tensor: id=107, shape=(1, 3), dtype=float32, numpy=array([[1., 2., 3.]], dtype=float32)>"
      ]
     },
     "execution_count": 47,
     "metadata": {},
     "output_type": "execute_result"
    }
   ],
   "source": [
    "t[0, tf.newaxis, ...]                            # The selection is made based on\n",
    "                                                 # t[0, ...] (tf.newaxis ignored) =>\n",
    "                                                 #   Select only index 0 of the first dimension.\n",
    "                                                 #   Resulting in [1, 2, 3]\n",
    "                                                 #   Select all dimensions until the last\n",
    "                                                 # Since tf.newaxis is at the middle position,\n",
    "                                                 # the selected values are enclosed inside\n",
    "                                                 # square brackets for each element =>\n",
    "                                                 #   Resulting in [[1, 2, 3]]"
   ]
  },
  {
   "cell_type": "code",
   "execution_count": 48,
   "metadata": {},
   "outputs": [
    {
     "data": {
      "text/plain": [
       "<tf.Tensor: id=109, shape=(2, 3), dtype=float32, numpy=\n",
       "array([[11., 12., 13.],\n",
       "       [14., 15., 16.]], dtype=float32)>"
      ]
     },
     "execution_count": 48,
     "metadata": {},
     "output_type": "execute_result"
    }
   ],
   "source": [
    "t + 10"
   ]
  },
  {
   "cell_type": "code",
   "execution_count": 49,
   "metadata": {},
   "outputs": [
    {
     "data": {
      "text/plain": [
       "<tf.Tensor: id=110, shape=(2, 3), dtype=float32, numpy=\n",
       "array([[ 1.,  4.,  9.],\n",
       "       [16., 25., 36.]], dtype=float32)>"
      ]
     },
     "execution_count": 49,
     "metadata": {},
     "output_type": "execute_result"
    }
   ],
   "source": [
    "tf.square(t)"
   ]
  },
  {
   "cell_type": "code",
   "execution_count": 50,
   "metadata": {},
   "outputs": [
    {
     "data": {
      "text/plain": [
       "<tf.Tensor: id=113, shape=(2, 2), dtype=float32, numpy=\n",
       "array([[14., 32.],\n",
       "       [32., 77.]], dtype=float32)>"
      ]
     },
     "execution_count": 50,
     "metadata": {},
     "output_type": "execute_result"
    }
   ],
   "source": [
    "t @ tf.transpose(t)                              # @ represents matrix multiplication. You can\n",
    "                                                 # also say tf.matmul(t, tf.transpose(t))"
   ]
  },
  {
   "cell_type": "code",
   "execution_count": 51,
   "metadata": {},
   "outputs": [
    {
     "data": {
      "text/plain": [
       "<tf.Tensor: id=116, shape=(2, 2), dtype=float32, numpy=\n",
       "array([[14., 32.],\n",
       "       [32., 77.]], dtype=float32)>"
      ]
     },
     "execution_count": 51,
     "metadata": {},
     "output_type": "execute_result"
    }
   ],
   "source": [
    "tf.matmul(t, tf.transpose(t))"
   ]
  },
  {
   "cell_type": "code",
   "execution_count": 52,
   "metadata": {},
   "outputs": [
    {
     "data": {
      "text/plain": [
       "<tf.Tensor: id=121, shape=(3, 2), dtype=float32, numpy=\n",
       "array([[11., 26.],\n",
       "       [14., 35.],\n",
       "       [19., 46.]], dtype=float32)>"
      ]
     },
     "execution_count": 52,
     "metadata": {},
     "output_type": "execute_result"
    }
   ],
   "source": [
    "# Other math operations:         tf.add(),     tf.multiply(), tf.square(), tf.exp(), tf.sqrt()\n",
    "# Operations available in numpy: tf.reshape(), tf.squeeze(),  tf.tile()\n",
    "# Differently-named operations:  tf.reduce_mean(), tf.reduce_sum(), tf.reduce_max(),\n",
    "#                                tf.math.log()\n",
    "# The names are different from those in numpy, because the operations do different things. ex:\n",
    "# t.T in numpy is the transpose, but it is tf.transpose(t) in Tensorflow.\n",
    "# In numpy, t.T gives you a transposed view on the same data.\n",
    "# In Tensorflow, you get a copy of the transposed data.\n",
    "#\n",
    "# Many classes have aliases. ex. tf.add() is same as tf.math.add().\n",
    "# This helps keep the packages organized while having concise names for common operations.\n",
    "#\n",
    "# If you want code that is usable in other Keras implementations, you should\n",
    "# use only the functions in the keras.backend. However this is only a subset\n",
    "# of all the Tensorflow functions. ex:\n",
    "K = keras.backend\n",
    "K.square(K.transpose(t)) + 10"
   ]
  },
  {
   "cell_type": "markdown",
   "metadata": {},
   "source": [
    "### Tensors and NumPy"
   ]
  },
  {
   "cell_type": "code",
   "execution_count": 53,
   "metadata": {},
   "outputs": [
    {
     "data": {
      "text/plain": [
       "<tf.Tensor: id=122, shape=(3,), dtype=float64, numpy=array([2., 4., 5.])>"
      ]
     },
     "execution_count": 53,
     "metadata": {},
     "output_type": "execute_result"
    }
   ],
   "source": [
    "a = np.array([2., 4., 5.])\n",
    "tf.constant(a)                            # Results in a float64 array."
   ]
  },
  {
   "cell_type": "code",
   "execution_count": 54,
   "metadata": {},
   "outputs": [
    {
     "data": {
      "text/plain": [
       "<tf.Tensor: id=123, shape=(3,), dtype=float32, numpy=array([2., 4., 5.], dtype=float32)>"
      ]
     },
     "execution_count": 54,
     "metadata": {},
     "output_type": "execute_result"
    }
   ],
   "source": [
    "# Numpy uses float64 by default.\n",
    "# Neural networks (and thus tensorflow) use float32, we should use\n",
    "# tf.constant(a, dtype=tf.float32) instead.\n",
    "tf.constant(a, dtype=tf.float32)"
   ]
  },
  {
   "cell_type": "code",
   "execution_count": 55,
   "metadata": {},
   "outputs": [
    {
     "data": {
      "text/plain": [
       "array([[1., 2., 3.],\n",
       "       [4., 5., 6.]], dtype=float32)"
      ]
     },
     "execution_count": 55,
     "metadata": {},
     "output_type": "execute_result"
    }
   ],
   "source": [
    "t.numpy()                                 # Get numpy array from tensor"
   ]
  },
  {
   "cell_type": "markdown",
   "metadata": {},
   "source": [
    "### Type conversions"
   ]
  },
  {
   "cell_type": "code",
   "execution_count": 56,
   "metadata": {},
   "outputs": [],
   "source": [
    "# Tensorflow does not do type conversions automatically\n",
    "# tf.constant(2.) + tf.constant(40)         # InvalidArgumentError since float + int\n",
    "# tf.constant(2.) + \\                       # InvalidArgumentError since float32 + float64\n",
    "#   tf.constant(40., dtype=tf.float64)    "
   ]
  },
  {
   "cell_type": "markdown",
   "metadata": {},
   "source": [
    "### Variables"
   ]
  },
  {
   "cell_type": "code",
   "execution_count": 57,
   "metadata": {},
   "outputs": [
    {
     "data": {
      "text/plain": [
       "<tf.Variable 'Variable:0' shape=(2, 3) dtype=float32, numpy=\n",
       "array([[1., 2., 3.],\n",
       "       [4., 5., 6.]], dtype=float32)>"
      ]
     },
     "execution_count": 57,
     "metadata": {},
     "output_type": "execute_result"
    }
   ],
   "source": [
    "# Tensors are immutable. They're used to store data.\n",
    "# We cannot use tensors to implement weights in a Neural Network.\n",
    "# We can use Variables instead.\n",
    "# Can be modified in-place using: \n",
    "#   assign() for assigning value to a variable\n",
    "#   assign_add() for incrementing\n",
    "#   assign_sub() for decrementing\n",
    "#\n",
    "# You can also modify individual cells (or slices) using the cells (or slices) assign(),\n",
    "# or by using the scatter_update() or scatter_nd_update(). nd stands for n-dimensions.\n",
    "#\n",
    "# In practice, you will add weights using add_weight() function.\n",
    "# You will rarely need to create variables manually.\n",
    "v = tf.Variable([[1., 2., 3.], [4., 5., 6.]])\n",
    "v"
   ]
  },
  {
   "cell_type": "code",
   "execution_count": 58,
   "metadata": {},
   "outputs": [
    {
     "data": {
      "text/plain": [
       "<tf.Variable 'UnreadVariable' shape=(2, 3) dtype=float32, numpy=\n",
       "array([[ 2.,  4.,  6.],\n",
       "       [ 8., 10., 12.]], dtype=float32)>"
      ]
     },
     "execution_count": 58,
     "metadata": {},
     "output_type": "execute_result"
    }
   ],
   "source": [
    "v.assign(2 * v)"
   ]
  },
  {
   "cell_type": "code",
   "execution_count": 59,
   "metadata": {},
   "outputs": [
    {
     "data": {
      "text/plain": [
       "<tf.Variable 'UnreadVariable' shape=(2, 3) dtype=float32, numpy=\n",
       "array([[ 2., 42.,  6.],\n",
       "       [ 8., 10., 12.]], dtype=float32)>"
      ]
     },
     "execution_count": 59,
     "metadata": {},
     "output_type": "execute_result"
    }
   ],
   "source": [
    "v[0, 1].assign(42)"
   ]
  },
  {
   "cell_type": "code",
   "execution_count": 60,
   "metadata": {},
   "outputs": [
    {
     "data": {
      "text/plain": [
       "<tf.Variable 'UnreadVariable' shape=(2, 3) dtype=float32, numpy=\n",
       "array([[ 2., 42.,  0.],\n",
       "       [ 8., 10.,  1.]], dtype=float32)>"
      ]
     },
     "execution_count": 60,
     "metadata": {},
     "output_type": "execute_result"
    }
   ],
   "source": [
    "v[:, 2].assign([0., 1.])"
   ]
  },
  {
   "cell_type": "code",
   "execution_count": 61,
   "metadata": {},
   "outputs": [
    {
     "data": {
      "text/plain": [
       "<tf.Variable 'UnreadVariable' shape=(2, 3) dtype=float32, numpy=\n",
       "array([[100.,  42.,   0.],\n",
       "       [  8.,  10., 200.]], dtype=float32)>"
      ]
     },
     "execution_count": 61,
     "metadata": {},
     "output_type": "execute_result"
    }
   ],
   "source": [
    "v.scatter_nd_update(indices=[[0, 0], [1, 2]], updates=[100., 200.])"
   ]
  },
  {
   "cell_type": "markdown",
   "metadata": {},
   "source": [
    "### Other Data Structures\n",
    "  - Sparse tensors (tf.SparseTensor)\n",
    "    - Represent tensors with mostly zeros, efficiently.\n",
    "  - Tensor arrays (tf.TensorArray)\n",
    "    - List of tensors with fixed size by default. Can optionally be made dynamic.\n",
    "      All tensors they contain must have the same shape and data type.\n",
    "  - Ragged tensors (tf.RaggedTensor)\n",
    "    - List of list of tensors, where each tensor has the same shape and data type.\n",
    "  - String tensors\n",
    "    - Regular tensors of type string (represents byte strings). Unicode strings are encoded\n",
    "      to utf-8 automatically. Represent unicode strings using tensors of type tf.int32 with\n",
    "      4 int32 values representing a unicode code point.\n",
    "  - Sets\n",
    "    - Represented as tensors/sparse tensors. ex. tf.constant([[1, 2], [3, 4]]) represents\n",
    "      two sets {1, 2}, and {3, 4}. Each set is represented as a vector in the tensors\n",
    "      last axis.\n",
    "  - Queues\n",
    "    - Store tensors across multiple steps. FIFOQueue, PriorityQueue, RandomShuffleQueue (shuffles it's items), PaddingFIFOQueue (pads it's differently-shaped items)"
   ]
  },
  {
   "cell_type": "markdown",
   "metadata": {},
   "source": [
    "## Customizing Models and Training Algorithms"
   ]
  },
  {
   "cell_type": "code",
   "execution_count": null,
   "metadata": {},
   "outputs": [],
   "source": []
  }
 ],
 "metadata": {
  "kernelspec": {
   "display_name": "Python 3",
   "language": "python",
   "name": "python3"
  },
  "language_info": {
   "codemirror_mode": {
    "name": "ipython",
    "version": 3
   },
   "file_extension": ".py",
   "mimetype": "text/x-python",
   "name": "python",
   "nbconvert_exporter": "python",
   "pygments_lexer": "ipython3",
   "version": "3.7.4"
  }
 },
 "nbformat": 4,
 "nbformat_minor": 2
}
